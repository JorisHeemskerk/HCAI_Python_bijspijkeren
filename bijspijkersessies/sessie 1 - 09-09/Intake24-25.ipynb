{
 "cells": [
  {
   "cell_type": "markdown",
   "id": "c61f2fb0",
   "metadata": {},
   "source": [
    "# Intake-opdracht master HCAI - onderdeel programmeren\n",
    "Met deze opdracht laat je zien over voldoende programmeervaardigheden te beschikken om aan de master HCAI te kunnen beginnen. \n",
    "Sla dit notebook op op je eigen laptop. Voeg je naam toe aan de bestandsnaam en vul hieronder je naam in.  "
   ]
  },
  {
   "cell_type": "markdown",
   "id": "2c0ab694",
   "metadata": {},
   "source": [
    "_Dubbelklik hier om je naam te typen. Als je daarna op CTRL+Enter drukt, zie je je naam in gewone tekst staan._"
   ]
  },
  {
   "cell_type": "markdown",
   "id": "56fad955",
   "metadata": {},
   "source": [
    "In de opdrachten hieronder ga je een aantal keer code schrijven. Als Python nog nieuw is voor je, kan dit best een uitdaging zijn. Als je er niet uitkomt, beschrijf dan welke stappen je hebt geprobeerd en hoe je je code zou willen opbouwen (hier een regel die xxx doet, dan een regel die yyy doet, daarna een regel die zzz doet). "
   ]
  },
  {
   "cell_type": "markdown",
   "id": "bdace427",
   "metadata": {},
   "source": [
    "## Klinkerwoorden, medeklinkerwoorden en evenwichtige woorden\n",
    "Woorden bestaan uit klinkers en medeklinkers. Door naar het aantal klinkers en medeklinkers in een woord te kijken, kunnen we drie soorten woorden definiëren:\n",
    "1. Klinkerwoorden: woorden met meer klinkers dan medeklinkers. Voorbeeld: \"aarde\"\n",
    "2. Medeklinkerwoorden: woorden met meer medeklinkers dan klinkers. Voorbeeld: \"afslag\" \n",
    "3. Evenwichtige woorden: woorden met evenveel klinkers als medeklinkers. Voorbeeld: \"aantal\"\n",
    "\n",
    "Nu zijn we benieuwd welk type woorden in de Nederlandse taal het meest voorkomt en welk het minst. In deze opdracht ga je daarom een script schrijven om voor een willekeurige Wikipedia-tekst het aantal klinkerwoorden, medeklinkerwoorden en evenwichtige woorden te tellen. De tekst staat in badminton.txt. "
   ]
  },
  {
   "cell_type": "markdown",
   "id": "b2cb5d10",
   "metadata": {},
   "source": [
    "### Eerst een voorspelling\n",
    "Voordat je gaat schrijven aan het script: wat is je verwachting? Hoeveel verwacht je dat klinkerwoorden, medeklinkerwoorden en evenwichtige woorden voorkomen in de Nederlandse taal? Waarop baseer je deze verwachting?"
   ]
  },
  {
   "cell_type": "markdown",
   "id": "a546f3f9",
   "metadata": {},
   "source": [
    "_Dubbelklik hier om je verwachting op te schrijven. Druk daarna weer op CTRL+Enter_"
   ]
  },
  {
   "cell_type": "markdown",
   "id": "c3c103ef",
   "metadata": {},
   "source": [
    "### Tekst inlezen\n",
    "Lees hieronder de tekst (badminton.txt) in. Als het inlezen van het bestand niet goed lukt, mag je er ook voor kiezen om de tekst te kopiëren en als string aan een variabele toe te wijzen.\n",
    "\n",
    "Maak vervolgens van de tekst een lijst met alle woorden uit de tekst. Haal alle interpunctie (punten, komma's etcetera) eruit en zorg dat alles in kleine letters (lowercase) staat. De output moet er ongeveer zo uit komen te zien: ['badminton', 'is', 'een', 'olympische', 'sport', 'die', 'wordt', ..."
   ]
  },
  {
   "cell_type": "code",
   "execution_count": 4,
   "id": "9c63df6f",
   "metadata": {},
   "outputs": [],
   "source": [
    "import string #Klik op deze cel en druk op CTRL+Enter om de code te runnen."
   ]
  },
  {
   "cell_type": "code",
   "execution_count": null,
   "id": "194a21ab",
   "metadata": {},
   "outputs": [],
   "source": [
    "#Schrijf hier je code. Druk steeds op CTRL+Enter om je code te runnen. "
   ]
  },
  {
   "cell_type": "markdown",
   "id": "aab6eb53",
   "metadata": {},
   "source": [
    "websites waar je python kan leren\n",
    "- W3schools\n",
    "- geeksforgeeks\n",
    "- datacamp\n",
    "- spiral training (cursussen)\n",
    "\n",
    "meer voor bugs en specifieke problemen\n",
    "- Stackoverflow\n",
    "  - Als stackoverflow het niet weet soms Reddit\n",
    "- chatGPT"
   ]
  },
  {
   "cell_type": "code",
   "execution_count": null,
   "id": "8c78805f",
   "metadata": {},
   "outputs": [
    {
     "name": "stdout",
     "output_type": "stream",
     "text": [
      "Badminton is een olympische sport die wordt gespeeld met een racket en een shuttle. De shuttle, die gemaakt kan zijn van nylon of van veren, wordt over een net heen en weer geslagen met de rackets. Badminton wordt in een zaal gespeeld, zodat er geen hinder van wind en andere weersomstandigheden is. Er wordt gespeeld in vijf disciplines.\n",
      "\n",
      "In Aziatische landen (onder andere China, Vietnam, Indonesië en Maleisië) wordt badminton massaal gespeeld. Van de westerse landen zijn vooral Denemarken en Groot-Brittannië landen met aanzienlijke prestaties op het gebied van de badmintonsport. Badminton staat sinds 1992 op het programma van de Olympische Spelen. Daarvoor was het tweemaal een olympische demonstratiesport; in 1972 en 1988.\n",
      "\n",
      "Oorsprong\n",
      "\n",
      "Er doen veel verschillende theorieën de ronde over het ontstaan van badminton, maar men gaat er algemeen van uit dat badminton zijn oorsprong vindt in Brits-Indië. Er zijn afbeeldingen bekend van begin 19e eeuw waarin het spel battledore and shuttlecock gespeeld wordt. Tevens is bekend dat het spel sterke overeenkomsten vertoont met ball badminton, afkomstig uit Tamil Nadu, en met hanetsuki, afkomstig uit Japan. De Britse soldaten speelden badminton in Brits-Indië. Daar werd het echter poona genoemd naar de gelijknamige stad Poona. Later kwam het over naar Engeland, in 1873 werd het beoefend op het landgoed van de hertog van Beaufort, Badminton.\n",
      "\n",
      "Een bekende Amerikaanse badmintonautoriteit, Ken Davidson, verdiepte zich in de geschiedenis van het badminton. Er zijn verschillende schilderijen van Engelse en Franse afkomst waaruit hij kon afleiden dat er al eerder een soort gelijk spel is gespeeld in Europa. Deze spellen stonden onder verschillende namen bekend. De Franse naam was jeu de longue plume (spel van de lange pluim). Vanaf 1873 wordt het spel algemeen badminton genoemd. In Nederland was er in het begin van de dertiger jaren van de twintigste eeuw enige belangstelling, maar opgang maakte het spel nog niet. Van Dale vermeldde het woord pas sinds 1950.\n"
     ]
    }
   ],
   "source": [
    "# Deze functie hebben we op w3schools gevonden, een file kan je dus openen met open()\n",
    "file = open(\"badminton.txt\")\n",
    "# vervolgens hebben we gezien dat het `file` object een beetje bijzonder is. We kunnen deze niet printen. \n",
    "# Hier komt namelijk een abstract object uit waar we nog niet zo veel mee kunnen.\n",
    "# We moeten eerst de informatie er uit halen met de read() methode\n",
    "txt = file.read()\n",
    "# daarna kunnen we de inhoud pas printen\n",
    "# print(txt)"
   ]
  },
  {
   "cell_type": "code",
   "execution_count": null,
   "id": "072121c4",
   "metadata": {},
   "outputs": [
    {
     "data": {
      "text/plain": [
       "['Badminton',\n",
       " 'is',\n",
       " 'een',\n",
       " 'olympische',\n",
       " 'sport',\n",
       " 'die',\n",
       " 'wordt',\n",
       " 'gespeeld',\n",
       " 'met',\n",
       " 'een',\n",
       " 'racket',\n",
       " 'en',\n",
       " 'een',\n",
       " 'shuttle.',\n",
       " 'De',\n",
       " 'shuttle,',\n",
       " 'die',\n",
       " 'gemaakt',\n",
       " 'kan',\n",
       " 'zijn',\n",
       " 'van',\n",
       " 'nylon',\n",
       " 'of',\n",
       " 'van',\n",
       " 'veren,',\n",
       " 'wordt',\n",
       " 'over',\n",
       " 'een',\n",
       " 'net',\n",
       " 'heen',\n",
       " 'en',\n",
       " 'weer',\n",
       " 'geslagen',\n",
       " 'met',\n",
       " 'de',\n",
       " 'rackets.',\n",
       " 'Badminton',\n",
       " 'wordt',\n",
       " 'in',\n",
       " 'een',\n",
       " 'zaal',\n",
       " 'gespeeld,',\n",
       " 'zodat',\n",
       " 'er',\n",
       " 'geen',\n",
       " 'hinder',\n",
       " 'van',\n",
       " 'wind',\n",
       " 'en',\n",
       " 'andere',\n",
       " 'weersomstandigheden',\n",
       " 'is.',\n",
       " 'Er',\n",
       " 'wordt',\n",
       " 'gespeeld',\n",
       " 'in',\n",
       " 'vijf',\n",
       " 'disciplines.',\n",
       " 'In',\n",
       " 'Aziatische',\n",
       " 'landen',\n",
       " '(onder',\n",
       " 'andere',\n",
       " 'China,',\n",
       " 'Vietnam,',\n",
       " 'Indonesië',\n",
       " 'en',\n",
       " 'Maleisië)',\n",
       " 'wordt',\n",
       " 'badminton',\n",
       " 'massaal',\n",
       " 'gespeeld.',\n",
       " 'Van',\n",
       " 'de',\n",
       " 'westerse',\n",
       " 'landen',\n",
       " 'zijn',\n",
       " 'vooral',\n",
       " 'Denemarken',\n",
       " 'en',\n",
       " 'Groot-Brittannië',\n",
       " 'landen',\n",
       " 'met',\n",
       " 'aanzienlijke',\n",
       " 'prestaties',\n",
       " 'op',\n",
       " 'het',\n",
       " 'gebied',\n",
       " 'van',\n",
       " 'de',\n",
       " 'badmintonsport.',\n",
       " 'Badminton',\n",
       " 'staat',\n",
       " 'sinds',\n",
       " '1992',\n",
       " 'op',\n",
       " 'het',\n",
       " 'programma',\n",
       " 'van',\n",
       " 'de',\n",
       " 'Olympische',\n",
       " 'Spelen.',\n",
       " 'Daarvoor',\n",
       " 'was',\n",
       " 'het',\n",
       " 'tweemaal',\n",
       " 'een',\n",
       " 'olympische',\n",
       " 'demonstratiesport;',\n",
       " 'in',\n",
       " '1972',\n",
       " 'en',\n",
       " '1988.',\n",
       " 'Oorsprong',\n",
       " 'Er',\n",
       " 'doen',\n",
       " 'veel',\n",
       " 'verschillende',\n",
       " 'theorieën',\n",
       " 'de',\n",
       " 'ronde',\n",
       " 'over',\n",
       " 'het',\n",
       " 'ontstaan',\n",
       " 'van',\n",
       " 'badminton,',\n",
       " 'maar',\n",
       " 'men',\n",
       " 'gaat',\n",
       " 'er',\n",
       " 'algemeen',\n",
       " 'van',\n",
       " 'uit',\n",
       " 'dat',\n",
       " 'badminton',\n",
       " 'zijn',\n",
       " 'oorsprong',\n",
       " 'vindt',\n",
       " 'in',\n",
       " 'Brits-Indië.',\n",
       " 'Er',\n",
       " 'zijn',\n",
       " 'afbeeldingen',\n",
       " 'bekend',\n",
       " 'van',\n",
       " 'begin',\n",
       " '19e',\n",
       " 'eeuw',\n",
       " 'waarin',\n",
       " 'het',\n",
       " 'spel',\n",
       " 'battledore',\n",
       " 'and',\n",
       " 'shuttlecock',\n",
       " 'gespeeld',\n",
       " 'wordt.',\n",
       " 'Tevens',\n",
       " 'is',\n",
       " 'bekend',\n",
       " 'dat',\n",
       " 'het',\n",
       " 'spel',\n",
       " 'sterke',\n",
       " 'overeenkomsten',\n",
       " 'vertoont',\n",
       " 'met',\n",
       " 'ball',\n",
       " 'badminton,',\n",
       " 'afkomstig',\n",
       " 'uit',\n",
       " 'Tamil',\n",
       " 'Nadu,',\n",
       " 'en',\n",
       " 'met',\n",
       " 'hanetsuki,',\n",
       " 'afkomstig',\n",
       " 'uit',\n",
       " 'Japan.',\n",
       " 'De',\n",
       " 'Britse',\n",
       " 'soldaten',\n",
       " 'speelden',\n",
       " 'badminton',\n",
       " 'in',\n",
       " 'Brits-Indië.',\n",
       " 'Daar',\n",
       " 'werd',\n",
       " 'het',\n",
       " 'echter',\n",
       " 'poona',\n",
       " 'genoemd',\n",
       " 'naar',\n",
       " 'de',\n",
       " 'gelijknamige',\n",
       " 'stad',\n",
       " 'Poona.',\n",
       " 'Later',\n",
       " 'kwam',\n",
       " 'het',\n",
       " 'over',\n",
       " 'naar',\n",
       " 'Engeland,',\n",
       " 'in',\n",
       " '1873',\n",
       " 'werd',\n",
       " 'het',\n",
       " 'beoefend',\n",
       " 'op',\n",
       " 'het',\n",
       " 'landgoed',\n",
       " 'van',\n",
       " 'de',\n",
       " 'hertog',\n",
       " 'van',\n",
       " 'Beaufort,',\n",
       " 'Badminton.',\n",
       " 'Een',\n",
       " 'bekende',\n",
       " 'Amerikaanse',\n",
       " 'badmintonautoriteit,',\n",
       " 'Ken',\n",
       " 'Davidson,',\n",
       " 'verdiepte',\n",
       " 'zich',\n",
       " 'in',\n",
       " 'de',\n",
       " 'geschiedenis',\n",
       " 'van',\n",
       " 'het',\n",
       " 'badminton.',\n",
       " 'Er',\n",
       " 'zijn',\n",
       " 'verschillende',\n",
       " 'schilderijen',\n",
       " 'van',\n",
       " 'Engelse',\n",
       " 'en',\n",
       " 'Franse',\n",
       " 'afkomst',\n",
       " 'waaruit',\n",
       " 'hij',\n",
       " 'kon',\n",
       " 'afleiden',\n",
       " 'dat',\n",
       " 'er',\n",
       " 'al',\n",
       " 'eerder',\n",
       " 'een',\n",
       " 'soort',\n",
       " 'gelijk',\n",
       " 'spel',\n",
       " 'is',\n",
       " 'gespeeld',\n",
       " 'in',\n",
       " 'Europa.',\n",
       " 'Deze',\n",
       " 'spellen',\n",
       " 'stonden',\n",
       " 'onder',\n",
       " 'verschillende',\n",
       " 'namen',\n",
       " 'bekend.',\n",
       " 'De',\n",
       " 'Franse',\n",
       " 'naam',\n",
       " 'was',\n",
       " 'jeu',\n",
       " 'de',\n",
       " 'longue',\n",
       " 'plume',\n",
       " '(spel',\n",
       " 'van',\n",
       " 'de',\n",
       " 'lange',\n",
       " 'pluim).',\n",
       " 'Vanaf',\n",
       " '1873',\n",
       " 'wordt',\n",
       " 'het',\n",
       " 'spel',\n",
       " 'algemeen',\n",
       " 'badminton',\n",
       " 'genoemd.',\n",
       " 'In',\n",
       " 'Nederland',\n",
       " 'was',\n",
       " 'er',\n",
       " 'in',\n",
       " 'het',\n",
       " 'begin',\n",
       " 'van',\n",
       " 'de',\n",
       " 'dertiger',\n",
       " 'jaren',\n",
       " 'van',\n",
       " 'de',\n",
       " 'twintigste',\n",
       " 'eeuw',\n",
       " 'enige',\n",
       " 'belangstelling,',\n",
       " 'maar',\n",
       " 'opgang',\n",
       " 'maakte',\n",
       " 'het',\n",
       " 'spel',\n",
       " 'nog',\n",
       " 'niet.',\n",
       " 'Van',\n",
       " 'Dale',\n",
       " 'vermeldde',\n",
       " 'het',\n",
       " 'woord',\n",
       " 'pas',\n",
       " 'sinds',\n",
       " '1950.']"
      ]
     },
     "execution_count": 3,
     "metadata": {},
     "output_type": "execute_result"
    }
   ],
   "source": [
    "# op geeks4geeks hebben we deze functie gevonden, om tekst te splitten. Een zin wordt opgedeeld in een lange lijst aan losse woorden.\n",
    "txt.split()"
   ]
  },
  {
   "cell_type": "code",
   "execution_count": null,
   "id": "b61b7059",
   "metadata": {},
   "outputs": [
    {
     "name": "stdout",
     "output_type": "stream",
     "text": [
      "kurhawojhoijk;\n"
     ]
    }
   ],
   "source": [
    "# vervolgens gaan we de leestekens er uit halen met replace.\n",
    "a = \"kurhawojhoij/..k;\"\n",
    "\n",
    "a = a.replace('.', '')\n",
    "a = a.replace(',', '')\n",
    "a = a.replace('/', '')\n",
    "\n",
    "print(a)\n",
    "\n"
   ]
  },
  {
   "cell_type": "code",
   "execution_count": 39,
   "id": "0c0e691a",
   "metadata": {},
   "outputs": [
    {
     "name": "stdout",
     "output_type": "stream",
     "text": [
      "Badminton is een olympische sport die wordt gespeeld met een racket en een shuttle De shuttle die gemaakt kan zijn van nylon of van veren wordt over een net heen en weer geslagen met de rackets Badminton wordt in een zaal gespeeld zodat er geen hinder van wind en andere weersomstandigheden is Er wordt gespeeld in vijf disciplines\n",
      "\n",
      "In Aziatische landen onder andere China Vietnam Indonesië en Maleisië wordt badminton massaal gespeeld Van de westerse landen zijn vooral Denemarken en GrootBrittannië landen met aanzienlijke prestaties op het gebied van de badmintonsport Badminton staat sinds 1992 op het programma van de Olympische Spelen Daarvoor was het tweemaal een olympische demonstratiesport in 1972 en 1988\n",
      "\n",
      "Oorsprong\n",
      "\n",
      "Er doen veel verschillende theorieën de ronde over het ontstaan van badminton maar men gaat er algemeen van uit dat badminton zijn oorsprong vindt in BritsIndië Er zijn afbeeldingen bekend van begin 19e eeuw waarin het spel battledore and shuttlecock gespeeld wordt Tevens is bekend dat het spel sterke overeenkomsten vertoont met ball badminton afkomstig uit Tamil Nadu en met hanetsuki afkomstig uit Japan De Britse soldaten speelden badminton in BritsIndië Daar werd het echter poona genoemd naar de gelijknamige stad Poona Later kwam het over naar Engeland in 1873 werd het beoefend op het landgoed van de hertog van Beaufort Badminton\n",
      "\n",
      "Een bekende Amerikaanse badmintonautoriteit Ken Davidson verdiepte zich in de geschiedenis van het badminton Er zijn verschillende schilderijen van Engelse en Franse afkomst waaruit hij kon afleiden dat er al eerder een soort gelijk spel is gespeeld in Europa Deze spellen stonden onder verschillende namen bekend De Franse naam was jeu de longue plume spel van de lange pluim Vanaf 1873 wordt het spel algemeen badminton genoemd In Nederland was er in het begin van de dertiger jaren van de twintigste eeuw enige belangstelling maar opgang maakte het spel nog niet Van Dale vermeldde het woord pas sinds 1950\n"
     ]
    }
   ],
   "source": [
    "txt = txt.replace('.', '')\n",
    "txt = txt.replace(',', '')\n",
    "txt = txt.replace(':', '')\n",
    "txt = txt.replace(';', '')\n",
    "txt = txt.replace('(', '')\n",
    "txt = txt.replace(')', '')\n",
    "txt = txt.replace('-', '')\n",
    "txt = txt.replace('\\\\', '')\n",
    "txt = txt.replace('!', '')\n",
    "txt = txt.replace('?', '')\n",
    "\n",
    "print(txt)"
   ]
  },
  {
   "cell_type": "code",
   "execution_count": 41,
   "id": "b8c94bb1",
   "metadata": {},
   "outputs": [
    {
     "name": "stdout",
     "output_type": "stream",
     "text": [
      "badminton is een olympische sport die wordt gespeeld met een racket en een shuttle de shuttle die gemaakt kan zijn van nylon of van veren wordt over een net heen en weer geslagen met de rackets badminton wordt in een zaal gespeeld zodat er geen hinder van wind en andere weersomstandigheden is er wordt gespeeld in vijf disciplines\n",
      "\n",
      "in aziatische landen onder andere china vietnam indonesië en maleisië wordt badminton massaal gespeeld van de westerse landen zijn vooral denemarken en grootbrittannië landen met aanzienlijke prestaties op het gebied van de badmintonsport badminton staat sinds 1992 op het programma van de olympische spelen daarvoor was het tweemaal een olympische demonstratiesport in 1972 en 1988\n",
      "\n",
      "oorsprong\n",
      "\n",
      "er doen veel verschillende theorieën de ronde over het ontstaan van badminton maar men gaat er algemeen van uit dat badminton zijn oorsprong vindt in britsindië er zijn afbeeldingen bekend van begin 19e eeuw waarin het spel battledore and shuttlecock gespeeld wordt tevens is bekend dat het spel sterke overeenkomsten vertoont met ball badminton afkomstig uit tamil nadu en met hanetsuki afkomstig uit japan de britse soldaten speelden badminton in britsindië daar werd het echter poona genoemd naar de gelijknamige stad poona later kwam het over naar engeland in 1873 werd het beoefend op het landgoed van de hertog van beaufort badminton\n",
      "\n",
      "een bekende amerikaanse badmintonautoriteit ken davidson verdiepte zich in de geschiedenis van het badminton er zijn verschillende schilderijen van engelse en franse afkomst waaruit hij kon afleiden dat er al eerder een soort gelijk spel is gespeeld in europa deze spellen stonden onder verschillende namen bekend de franse naam was jeu de longue plume spel van de lange pluim vanaf 1873 wordt het spel algemeen badminton genoemd in nederland was er in het begin van de dertiger jaren van de twintigste eeuw enige belangstelling maar opgang maakte het spel nog niet van dale vermeldde het woord pas sinds 1950\n"
     ]
    }
   ],
   "source": [
    "txt = txt.lower()\n",
    "\n",
    "print(txt)"
   ]
  },
  {
   "cell_type": "code",
   "execution_count": 42,
   "id": "94c26b77",
   "metadata": {},
   "outputs": [
    {
     "name": "stdout",
     "output_type": "stream",
     "text": [
      "['badminton', 'is', 'een', 'olympische', 'sport', 'die', 'wordt', 'gespeeld', 'met', 'een', 'racket', 'en', 'een', 'shuttle', 'de', 'shuttle', 'die', 'gemaakt', 'kan', 'zijn', 'van', 'nylon', 'of', 'van', 'veren', 'wordt', 'over', 'een', 'net', 'heen', 'en', 'weer', 'geslagen', 'met', 'de', 'rackets', 'badminton', 'wordt', 'in', 'een', 'zaal', 'gespeeld', 'zodat', 'er', 'geen', 'hinder', 'van', 'wind', 'en', 'andere', 'weersomstandigheden', 'is', 'er', 'wordt', 'gespeeld', 'in', 'vijf', 'disciplines', 'in', 'aziatische', 'landen', 'onder', 'andere', 'china', 'vietnam', 'indonesië', 'en', 'maleisië', 'wordt', 'badminton', 'massaal', 'gespeeld', 'van', 'de', 'westerse', 'landen', 'zijn', 'vooral', 'denemarken', 'en', 'grootbrittannië', 'landen', 'met', 'aanzienlijke', 'prestaties', 'op', 'het', 'gebied', 'van', 'de', 'badmintonsport', 'badminton', 'staat', 'sinds', '1992', 'op', 'het', 'programma', 'van', 'de', 'olympische', 'spelen', 'daarvoor', 'was', 'het', 'tweemaal', 'een', 'olympische', 'demonstratiesport', 'in', '1972', 'en', '1988', 'oorsprong', 'er', 'doen', 'veel', 'verschillende', 'theorieën', 'de', 'ronde', 'over', 'het', 'ontstaan', 'van', 'badminton', 'maar', 'men', 'gaat', 'er', 'algemeen', 'van', 'uit', 'dat', 'badminton', 'zijn', 'oorsprong', 'vindt', 'in', 'britsindië', 'er', 'zijn', 'afbeeldingen', 'bekend', 'van', 'begin', '19e', 'eeuw', 'waarin', 'het', 'spel', 'battledore', 'and', 'shuttlecock', 'gespeeld', 'wordt', 'tevens', 'is', 'bekend', 'dat', 'het', 'spel', 'sterke', 'overeenkomsten', 'vertoont', 'met', 'ball', 'badminton', 'afkomstig', 'uit', 'tamil', 'nadu', 'en', 'met', 'hanetsuki', 'afkomstig', 'uit', 'japan', 'de', 'britse', 'soldaten', 'speelden', 'badminton', 'in', 'britsindië', 'daar', 'werd', 'het', 'echter', 'poona', 'genoemd', 'naar', 'de', 'gelijknamige', 'stad', 'poona', 'later', 'kwam', 'het', 'over', 'naar', 'engeland', 'in', '1873', 'werd', 'het', 'beoefend', 'op', 'het', 'landgoed', 'van', 'de', 'hertog', 'van', 'beaufort', 'badminton', 'een', 'bekende', 'amerikaanse', 'badmintonautoriteit', 'ken', 'davidson', 'verdiepte', 'zich', 'in', 'de', 'geschiedenis', 'van', 'het', 'badminton', 'er', 'zijn', 'verschillende', 'schilderijen', 'van', 'engelse', 'en', 'franse', 'afkomst', 'waaruit', 'hij', 'kon', 'afleiden', 'dat', 'er', 'al', 'eerder', 'een', 'soort', 'gelijk', 'spel', 'is', 'gespeeld', 'in', 'europa', 'deze', 'spellen', 'stonden', 'onder', 'verschillende', 'namen', 'bekend', 'de', 'franse', 'naam', 'was', 'jeu', 'de', 'longue', 'plume', 'spel', 'van', 'de', 'lange', 'pluim', 'vanaf', '1873', 'wordt', 'het', 'spel', 'algemeen', 'badminton', 'genoemd', 'in', 'nederland', 'was', 'er', 'in', 'het', 'begin', 'van', 'de', 'dertiger', 'jaren', 'van', 'de', 'twintigste', 'eeuw', 'enige', 'belangstelling', 'maar', 'opgang', 'maakte', 'het', 'spel', 'nog', 'niet', 'van', 'dale', 'vermeldde', 'het', 'woord', 'pas', 'sinds', '1950']\n"
     ]
    }
   ],
   "source": [
    "txt = txt.split()\n",
    "\n",
    "print(txt)"
   ]
  },
  {
   "cell_type": "markdown",
   "id": "83ff7733",
   "metadata": {},
   "source": [
    "### Functie voor klinkerwoorden maken\n",
    "Maak nu een functie die bepaalt of een woord een klinkerwoord is. We hebben vast een lijst met klinkers en medeklinkers voor je klaargezet. Test je functie uit met de woorden cavia, tralie, aquarium en sport. De output moet zijn: \n",
    "True\n",
    "False\n",
    "True\n",
    "False "
   ]
  },
  {
   "cell_type": "code",
   "execution_count": 43,
   "id": "36390243",
   "metadata": {},
   "outputs": [
    {
     "name": "stdout",
     "output_type": "stream",
     "text": [
      "j\n",
      "o\n",
      "r\n",
      "i\n",
      "s\n"
     ]
    }
   ],
   "source": [
    "s = \"joris\"\n",
    "for letter in s:\n",
    "    print(letter)"
   ]
  },
  {
   "cell_type": "code",
   "execution_count": 44,
   "id": "e134153f",
   "metadata": {},
   "outputs": [
    {
     "name": "stdout",
     "output_type": "stream",
     "text": [
      "True\n",
      "False\n",
      "True\n",
      "False\n"
     ]
    }
   ],
   "source": [
    "klinkers = ['a', 'e', 'i', 'o', 'u', 'y'] ##voor het gemak tellen we de y als klinker\n",
    "medeklinkers = ['b', 'c', 'd', 'f','g', 'h', 'j', 'k', 'l', 'm', 'n', 'p', 'q', 'r', 's', 't', 'v', 'w', 'x', 'z']\n",
    "\n",
    "def isKlinkerWoord(woord):\n",
    "    #Schrijf hier je code:\n",
    "    aantal_klinkers = 0\n",
    "    for letter in woord:\n",
    "        if letter in klinkers:\n",
    "            aantal_klinkers += 1 # aantal_klinkers = aantal_klinkers + 1\n",
    "    aantal_medeklinkers = len(woord) - aantal_klinkers\n",
    "\n",
    "    if aantal_klinkers > aantal_medeklinkers:\n",
    "        return True\n",
    "    else:\n",
    "        return False\n",
    "    \n",
    "\n",
    "print(isKlinkerWoord(\"cavia\"))\n",
    "print(isKlinkerWoord(\"tralie\"))\n",
    "print(isKlinkerWoord(\"aquarium\"))\n",
    "print(isKlinkerWoord(\"sport\"))"
   ]
  },
  {
   "cell_type": "markdown",
   "id": "33336afd",
   "metadata": {},
   "source": [
    "### Functies voor medeklinkerwoorden en evenwichtige woorden maken\n",
    "Maak nu functies om te bepalen of woorden medeklinkerwoorden of evenwichtige woorden zijn. \n",
    "Bij isMedeklinkerWoord moet de output zijn: False, False, False, True\n",
    "Bij isEvenwichtigWoord moet de output zijn: False, True, False, False"
   ]
  },
  {
   "cell_type": "code",
   "execution_count": null,
   "id": "7532f75f",
   "metadata": {},
   "outputs": [],
   "source": [
    "def isMedeklinkerWoord(woord):\n",
    "    isMedeklinkerWoord = True\n",
    "    \n",
    "    #Schrijf hier je code:\n",
    "     \n",
    "        \n",
    "    return isMedeklinkerWoord\n",
    "\n",
    "print(isMedeklinkerWoord(\"cavia\"))\n",
    "print(isMedeklinkerWoord(\"tralie\"))\n",
    "print(isMedeklinkerWoord(\"aquarium\"))\n",
    "print(isMedeklinkerWoord(\"sport\"))"
   ]
  },
  {
   "cell_type": "code",
   "execution_count": null,
   "id": "fd401062",
   "metadata": {},
   "outputs": [],
   "source": [
    "def isEvenwichtigWoord(woord):\n",
    "    isEvenwichtigWoord = True\n",
    "    \n",
    "    #Schrijf hier je code:\n",
    "     \n",
    "        \n",
    "    return isEvenwichtigWoord\n",
    "\n",
    "print(isEvenwichtigWoord(\"cavia\"))\n",
    "print(isEvenwichtigWoord(\"tralie\"))\n",
    "print(isEvenwichtigWoord(\"aquarium\"))\n",
    "print(isEvenwichtigWoord(\"sport\"))"
   ]
  },
  {
   "cell_type": "markdown",
   "id": "0b307d18",
   "metadata": {},
   "source": [
    "### Nederlandse tekst onderzoeken\n",
    "Zoek met de functies isKlinkerWoord, isMedeklinkerWoord en isEvenwichtigWoord uit welke percentages van de woorden in de tekst badminton.txt klinkerwoorden, medeklinkerwoorden en evenwichtige woorden zijn. "
   ]
  },
  {
   "cell_type": "code",
   "execution_count": null,
   "id": "79783c13",
   "metadata": {},
   "outputs": [],
   "source": [
    "#Schrijf hier je code. Wil je er tekst tussen zetten om je conclusies uit te leggen? Zet die dan steeds na een hekje (#)\n",
    "\n"
   ]
  },
  {
   "cell_type": "markdown",
   "id": "40618e4f",
   "metadata": {},
   "source": [
    "### Conclusie\n",
    "Wat is je conclusie? Welk type woorden komt het meest voor in de tekst over badminton en welk het minst? "
   ]
  },
  {
   "cell_type": "markdown",
   "id": "3d7d15c7",
   "metadata": {},
   "source": [
    "_Dubbelklik hier om een antwoord te typen_"
   ]
  },
  {
   "cell_type": "markdown",
   "id": "46951357",
   "metadata": {},
   "source": [
    "Wat zeggen je bevindingen over hoeveel de verschillende typen woorden voorkomen in de Nederlandse taal? Kun je nu concluderen welk type woorden het meest voorkomt in de Nederlandse taal? Waarom wel of niet? "
   ]
  },
  {
   "cell_type": "markdown",
   "id": "8ea32c4a",
   "metadata": {},
   "source": [
    "_Dubbelklik hier om een antwoord te typen_"
   ]
  },
  {
   "cell_type": "markdown",
   "id": "1ed6a9d9",
   "metadata": {},
   "source": [
    "Stel dat je grootschaliger onderzoek zou willen doen naar het aantal klinkerwoorden, medeklinkerwoorden en evenwichtige woorden in de Nederlandse taal. Schets in een paar zinnen hoe je hiervoor teksten zou selecteren.  "
   ]
  },
  {
   "cell_type": "markdown",
   "id": "bf4f0fb8",
   "metadata": {},
   "source": [
    "_Dubbelklik hier om een antwoord te typen_"
   ]
  }
 ],
 "metadata": {
  "kernelspec": {
   "display_name": "HCAI_python_TA",
   "language": "python",
   "name": "python3"
  },
  "language_info": {
   "codemirror_mode": {
    "name": "ipython",
    "version": 3
   },
   "file_extension": ".py",
   "mimetype": "text/x-python",
   "name": "python",
   "nbconvert_exporter": "python",
   "pygments_lexer": "ipython3",
   "version": "3.13.5"
  }
 },
 "nbformat": 4,
 "nbformat_minor": 5
}
