{
 "cells": [
  {
   "cell_type": "markdown",
   "id": "19e4537f",
   "metadata": {},
   "source": [
    "# Kleine oefeningen\n",
    "Dit notebook bevat wat kleine oefeningen. Deze zijn gebaseerd op de stof uit hoofstuk 1 van Automate the Boring stuff."
   ]
  },
  {
   "cell_type": "markdown",
   "id": "4cd0fba9",
   "metadata": {
    "vscode": {
     "languageId": "plaintext"
    }
   },
   "source": [
    "### Rekenvolgorde\n",
    "Zonder de cel uit te voeren, wat denk je dat de uitkomst zou zijn?"
   ]
  },
  {
   "cell_type": "code",
   "execution_count": null,
   "id": "bc2cb766",
   "metadata": {},
   "outputs": [],
   "source": [
    "print( 2**2 + (5 + 10 / 2) )"
   ]
  },
  {
   "attachments": {
    "image.png": {
     "image/png": "[encoded data removed]"
    }
   },
   "cell_type": "markdown",
   "id": "dda4659b",
   "metadata": {},
   "source": [
    "Hier een overzicht met de 'math operators'\n",
    "\n",
    "![image.png](attachment:image.png)\n"
   ]
  },
  {
   "cell_type": "markdown",
   "id": "b4377fc6",
   "metadata": {},
   "source": [
    "Waarom kunnen we op 3 verschillende manieren delen? wat doet dat?"
   ]
  },
  {
   "cell_type": "code",
   "execution_count": null,
   "id": "6af6fa9c",
   "metadata": {},
   "outputs": [],
   "source": [
    "print( 11 / 2 )\n",
    "print( 11 // 2 )\n",
    "print( 11 % 2 )"
   ]
  },
  {
   "cell_type": "markdown",
   "id": "e41a83a1",
   "metadata": {},
   "source": [
    "### Data types\n",
    "In Python kennen we verschillende datatypes, zoals:\n",
    "- integer (int): -2, -1, 0, 1, 2\n",
    "- floating point variable (float): -2.4, -1.1, 0.5, 1.3, 2.9\n",
    "- string (str): \"a\", \"hello\", \"hi\"\n",
    "- en nog meer... maar dat komt later"
   ]
  },
  {
   "cell_type": "markdown",
   "id": "af115a3e",
   "metadata": {},
   "source": [
    "Je kan ook het type opvragen!"
   ]
  },
  {
   "cell_type": "code",
   "execution_count": null,
   "id": "c7c9b26e",
   "metadata": {},
   "outputs": [],
   "source": [
    "print(type(4))\n",
    "print(type(4.0))\n",
    "print(type(\"4\"))"
   ]
  },
  {
   "cell_type": "markdown",
   "id": "64fac7d6",
   "metadata": {},
   "source": [
    "Je kan ook converteren tussen types, maar niet altijd"
   ]
  },
  {
   "cell_type": "code",
   "execution_count": null,
   "id": "0288f1ed",
   "metadata": {},
   "outputs": [],
   "source": [
    "print(int(5.3))"
   ]
  },
  {
   "cell_type": "code",
   "execution_count": null,
   "id": "26428123",
   "metadata": {},
   "outputs": [],
   "source": [
    "print(str(4.5))"
   ]
  },
  {
   "cell_type": "code",
   "execution_count": null,
   "id": "575e2567",
   "metadata": {},
   "outputs": [],
   "source": [
    "print(float(\"4\"))"
   ]
  },
  {
   "cell_type": "code",
   "execution_count": null,
   "id": "7630ea78",
   "metadata": {},
   "outputs": [],
   "source": [
    "print(float(\"zes\"))"
   ]
  },
  {
   "cell_type": "markdown",
   "id": "ae8fc9ba",
   "metadata": {},
   "source": [
    "### Rekenen met strings\n",
    "Je kan ook rekenen met strings! Maar ook hier kan niet alles."
   ]
  },
  {
   "cell_type": "code",
   "execution_count": null,
   "id": "915d927b",
   "metadata": {},
   "outputs": [],
   "source": [
    "print(\"hello\" + \"world\")"
   ]
  },
  {
   "cell_type": "code",
   "execution_count": null,
   "id": "63ea2ad5",
   "metadata": {},
   "outputs": [],
   "source": [
    "print(\"hello\" + \" \" + \"world\")"
   ]
  },
  {
   "cell_type": "code",
   "execution_count": null,
   "id": "b6e8eb82",
   "metadata": {},
   "outputs": [],
   "source": [
    "print(\"hello\" + 42)"
   ]
  },
  {
   "cell_type": "code",
   "execution_count": null,
   "id": "62c0c0b5",
   "metadata": {},
   "outputs": [],
   "source": [
    "print(\"hello\" - \"hello\")"
   ]
  },
  {
   "cell_type": "code",
   "execution_count": null,
   "id": "6f16ed86",
   "metadata": {},
   "outputs": [],
   "source": [
    "print(\"hello\" * 5)"
   ]
  },
  {
   "cell_type": "code",
   "execution_count": null,
   "id": "01d44ded",
   "metadata": {},
   "outputs": [],
   "source": [
    "print(\"hello\" + \" \" * 5)\n",
    "print((\"hello\" + \" \") * 5)"
   ]
  },
  {
   "cell_type": "code",
   "execution_count": null,
   "id": "b53925eb",
   "metadata": {},
   "outputs": [],
   "source": [
    "print(\"bob\" * \"alice\")"
   ]
  },
  {
   "cell_type": "markdown",
   "id": "be940ed3",
   "metadata": {},
   "source": [
    "### Variabelen!\n",
    "Wat nou als we dingen willen opslaan? waar laten we ze dan"
   ]
  },
  {
   "cell_type": "code",
   "execution_count": null,
   "id": "8bb8c7ce",
   "metadata": {},
   "outputs": [],
   "source": [
    "a = 5\n",
    "print(a)"
   ]
  },
  {
   "cell_type": "code",
   "execution_count": null,
   "id": "8bc547de",
   "metadata": {},
   "outputs": [],
   "source": [
    "a = 5\n",
    "b = 10\n",
    "print(a + b)"
   ]
  },
  {
   "cell_type": "code",
   "execution_count": null,
   "id": "401d1655",
   "metadata": {},
   "outputs": [],
   "source": [
    "a = 5\n",
    "b = 10\n",
    "c = a * b\n",
    "print(c)"
   ]
  },
  {
   "cell_type": "code",
   "execution_count": null,
   "id": "6bce1751",
   "metadata": {},
   "outputs": [],
   "source": [
    "print(a)"
   ]
  },
  {
   "cell_type": "code",
   "execution_count": null,
   "id": "030686a5",
   "metadata": {},
   "outputs": [],
   "source": [
    "foo = 10\n",
    "foo = \"hello\"\n",
    "print(foo)"
   ]
  },
  {
   "cell_type": "code",
   "execution_count": null,
   "id": "ca32aff8",
   "metadata": {},
   "outputs": [],
   "source": [
    "foo = 10\n",
    "foo = \"hello\"\n",
    "foo = foo + foo\n",
    "print(foo)"
   ]
  },
  {
   "cell_type": "code",
   "execution_count": null,
   "id": "0316a62c",
   "metadata": {},
   "outputs": [],
   "source": [
    "foo = \"hello\"\n",
    "bar = foo + \" world\"\n",
    "print(bar)"
   ]
  },
  {
   "cell_type": "markdown",
   "id": "6753cd4f",
   "metadata": {},
   "source": [
    "### wat kan je doen met strings?\n",
    "Hieronder wat leuke voorbeelden wat je kan done met strings"
   ]
  },
  {
   "cell_type": "code",
   "execution_count": null,
   "id": "7fe2f893",
   "metadata": {},
   "outputs": [],
   "source": [
    "# input functie\n",
    "user_input = input(\"wat is je naam? \")\n",
    "print(user_input)"
   ]
  },
  {
   "cell_type": "code",
   "execution_count": null,
   "id": "848cef4e",
   "metadata": {},
   "outputs": [],
   "source": [
    "# Lengte van een string\n",
    "user_input = input(\"wat is je naam? \")\n",
    "print(len(user_input))"
   ]
  },
  {
   "cell_type": "code",
   "execution_count": null,
   "id": "c979da30",
   "metadata": {},
   "outputs": [],
   "source": [
    "# kijken of twee strings hetzelfde \n",
    "voornaam = \"joris\"\n",
    "voornaam_nogmaals = \"joris\"\n",
    "print(voornaam == voornaam_nogmaals)"
   ]
  },
  {
   "cell_type": "code",
   "execution_count": null,
   "id": "a1180992",
   "metadata": {},
   "outputs": [],
   "source": [
    "print(voornaam != voornaam_nogmaals)"
   ]
  },
  {
   "attachments": {
    "image.png": {
     "image/png": "[encoded data removed]"
    }
   },
   "cell_type": "markdown",
   "id": "8163d38e",
   "metadata": {},
   "source": [
    "### Boolean operators\n",
    "![image.png](attachment:image.png)\n",
    "\n",
    "Maar wat is een boolean?"
   ]
  },
  {
   "cell_type": "code",
   "execution_count": null,
   "id": "35bd6b2e",
   "metadata": {},
   "outputs": [],
   "source": [
    "foo = True\n",
    "\n",
    "print(foo)\n",
    "print(type(foo))"
   ]
  },
  {
   "cell_type": "code",
   "execution_count": null,
   "id": "e67b74f3",
   "metadata": {},
   "outputs": [],
   "source": [
    "foo = True\n",
    "bar = False\n",
    "\n",
    "print(foo == bar)"
   ]
  },
  {
   "cell_type": "markdown",
   "id": "c1721438",
   "metadata": {},
   "source": [
    "Oke, dus we kunnen logica bouwen!"
   ]
  },
  {
   "cell_type": "code",
   "execution_count": null,
   "id": "7957b376",
   "metadata": {},
   "outputs": [],
   "source": [
    "foo = True\n",
    "bar = False\n",
    "\n",
    "print(foo != bar)"
   ]
  },
  {
   "cell_type": "code",
   "execution_count": null,
   "id": "17f41be3",
   "metadata": {},
   "outputs": [],
   "source": [
    "print(not True)"
   ]
  },
  {
   "cell_type": "code",
   "execution_count": null,
   "id": "e78cd86e",
   "metadata": {},
   "outputs": [],
   "source": [
    "print(not not True)"
   ]
  },
  {
   "cell_type": "markdown",
   "id": "5c5ca3d2",
   "metadata": {},
   "source": [
    "True en False | 1 en 0"
   ]
  },
  {
   "cell_type": "code",
   "execution_count": null,
   "id": "ad63dad5",
   "metadata": {},
   "outputs": [],
   "source": [
    "print(foo > bar)"
   ]
  },
  {
   "cell_type": "code",
   "execution_count": null,
   "id": "d3d0eda8",
   "metadata": {},
   "outputs": [],
   "source": [
    "print(foo > bar)"
   ]
  },
  {
   "cell_type": "code",
   "execution_count": null,
   "id": "d158da43",
   "metadata": {},
   "outputs": [],
   "source": [
    "print(True * 2)"
   ]
  },
  {
   "cell_type": "code",
   "execution_count": null,
   "id": "6953e21c",
   "metadata": {},
   "outputs": [],
   "source": [
    "print(True + 5 * False)"
   ]
  },
  {
   "cell_type": "markdown",
   "id": "5b966ebc",
   "metadata": {},
   "source": [
    "Maar ook andere types kunnen gebruikt worden met de boolean operators"
   ]
  },
  {
   "cell_type": "code",
   "execution_count": null,
   "id": "675ddca2",
   "metadata": {},
   "outputs": [],
   "source": [
    "a = 5\n",
    "foo = True\n",
    "\n",
    "print(a == foo)"
   ]
  },
  {
   "cell_type": "code",
   "execution_count": null,
   "id": "9ed9c402",
   "metadata": {},
   "outputs": [],
   "source": [
    "print(\"hallo\" != \"world\")"
   ]
  },
  {
   "cell_type": "code",
   "execution_count": null,
   "id": "ba299ea3",
   "metadata": {},
   "outputs": [],
   "source": [
    "print(4 == \"four\")"
   ]
  },
  {
   "cell_type": "code",
   "execution_count": null,
   "id": "a6793565",
   "metadata": {},
   "outputs": [],
   "source": [
    "print(4 == int(\"four\"))"
   ]
  },
  {
   "cell_type": "markdown",
   "id": "1ac7ace4",
   "metadata": {},
   "source": [
    "Wat als we meer dingen willen vergelijken?"
   ]
  },
  {
   "cell_type": "code",
   "execution_count": null,
   "id": "48b23a8d",
   "metadata": {},
   "outputs": [],
   "source": [
    "print( 4 >= 3 and True != False )"
   ]
  },
  {
   "cell_type": "code",
   "execution_count": null,
   "id": "c3295ab1",
   "metadata": {},
   "outputs": [],
   "source": [
    "print( \"hello\" == \"world\" or 4 < 10 )"
   ]
  },
  {
   "cell_type": "markdown",
   "id": "07fd202d",
   "metadata": {},
   "source": [
    "### If - else\n",
    "\n",
    "Nu we snappen hoe dit soort logica werkt, kunnen we ook de if-else gaan begrijpen!"
   ]
  },
  {
   "cell_type": "code",
   "execution_count": null,
   "id": "123610ff",
   "metadata": {},
   "outputs": [],
   "source": [
    "if True:\n",
    "    # Let op dat je hier een tabje naar rechts moet\n",
    "    print(\"hoi\")"
   ]
  },
  {
   "cell_type": "code",
   "execution_count": null,
   "id": "f3c2a048",
   "metadata": {},
   "outputs": [],
   "source": [
    "if False:\n",
    "    print(\"hoi\")"
   ]
  },
  {
   "cell_type": "code",
   "execution_count": null,
   "id": "27ddd9a3",
   "metadata": {},
   "outputs": [],
   "source": [
    "if False:\n",
    "print(\"hoi\")"
   ]
  },
  {
   "cell_type": "code",
   "execution_count": null,
   "id": "c11d66dc",
   "metadata": {},
   "outputs": [],
   "source": [
    "if False:\n",
    "    print(\"hello\")\n",
    "print(\"world\")"
   ]
  },
  {
   "cell_type": "markdown",
   "id": "01b51d2f",
   "metadata": {},
   "source": [
    "en nu de else!"
   ]
  },
  {
   "cell_type": "code",
   "execution_count": null,
   "id": "bdeceb8b",
   "metadata": {},
   "outputs": [],
   "source": [
    "if True:\n",
    "    print(\"1\")\n",
    "else:\n",
    "    print(\"2\")"
   ]
  },
  {
   "cell_type": "markdown",
   "id": "39102ab0",
   "metadata": {},
   "source": [
    "Maar wanneer wordt nou de else uitgevoerd? zo te zien nooit, want die `True` blijft daar staan...?"
   ]
  },
  {
   "cell_type": "code",
   "execution_count": null,
   "id": "bd9d435b",
   "metadata": {},
   "outputs": [],
   "source": [
    "a = True\n",
    "\n",
    "if a:\n",
    "    print(\"1\")\n",
    "else:\n",
    "    print(\"2\")"
   ]
  },
  {
   "cell_type": "code",
   "execution_count": null,
   "id": "377759b0",
   "metadata": {},
   "outputs": [],
   "source": [
    "naam = input(\"wat is je naam: \")\n",
    "\n",
    "if naam == \"joris\":\n",
    "    print(\"hallo joris!\")\n",
    "else:\n",
    "    print(\"hallo!\")"
   ]
  }
 ],
 "metadata": {
  "kernelspec": {
   "display_name": "HCAI_python_TA",
   "language": "python",
   "name": "python3"
  },
  "language_info": {
   "codemirror_mode": {
    "name": "ipython",
    "version": 3
   },
   "file_extension": ".py",
   "mimetype": "text/x-python",
   "name": "python",
   "nbconvert_exporter": "python",
   "pygments_lexer": "ipython3",
   "version": "3.13.5"
  }
 },
 "nbformat": 4,
 "nbformat_minor": 5
}
