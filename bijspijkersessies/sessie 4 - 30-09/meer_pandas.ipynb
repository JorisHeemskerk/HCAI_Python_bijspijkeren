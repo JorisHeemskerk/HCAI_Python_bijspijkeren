{
 "cells": [
  {
   "cell_type": "markdown",
   "id": "2e39a615",
   "metadata": {},
   "source": [
    "# Meer pandas!\n",
    "\n",
    "In dit notebook gaan we nog veel meer doen met de pandas package van python!"
   ]
  },
  {
   "cell_type": "code",
   "execution_count": 32,
   "id": "4cfd744f",
   "metadata": {},
   "outputs": [],
   "source": [
    "import pandas as pd\n",
    "import matplotlib.pyplot as plt"
   ]
  },
  {
   "cell_type": "markdown",
   "id": "c8276505",
   "metadata": {},
   "source": [
    "### data inlezen\n",
    "\n",
    "Laten we eerst de zoo_animals.csv eens inlezen als een dataframe"
   ]
  },
  {
   "cell_type": "code",
   "execution_count": 2,
   "id": "538c25c7",
   "metadata": {},
   "outputs": [
    {
     "data": {
      "text/html": [
       "<div>\n",
       "<style scoped>\n",
       "    .dataframe tbody tr th:only-of-type {\n",
       "        vertical-align: middle;\n",
       "    }\n",
       "\n",
       "    .dataframe tbody tr th {\n",
       "        vertical-align: top;\n",
       "    }\n",
       "\n",
       "    .dataframe thead th {\n",
       "        text-align: right;\n",
       "    }\n",
       "</style>\n",
       "<table border=\"1\" class=\"dataframe\">\n",
       "  <thead>\n",
       "    <tr style=\"text-align: right;\">\n",
       "      <th></th>\n",
       "      <th>animal_name</th>\n",
       "      <th>age</th>\n",
       "      <th>height</th>\n",
       "      <th>weight</th>\n",
       "      <th>zoo_location</th>\n",
       "    </tr>\n",
       "  </thead>\n",
       "  <tbody>\n",
       "    <tr>\n",
       "      <th>0</th>\n",
       "      <td>Wolf</td>\n",
       "      <td>2</td>\n",
       "      <td>1.23</td>\n",
       "      <td>36</td>\n",
       "      <td>Bronx Zoo</td>\n",
       "    </tr>\n",
       "    <tr>\n",
       "      <th>1</th>\n",
       "      <td>Wolf</td>\n",
       "      <td>19</td>\n",
       "      <td>1.07</td>\n",
       "      <td>30</td>\n",
       "      <td>Berlin Zoo</td>\n",
       "    </tr>\n",
       "    <tr>\n",
       "      <th>2</th>\n",
       "      <td>Kangaroo</td>\n",
       "      <td>25</td>\n",
       "      <td>1.39</td>\n",
       "      <td>88</td>\n",
       "      <td>San Diego Zoo</td>\n",
       "    </tr>\n",
       "    <tr>\n",
       "      <th>3</th>\n",
       "      <td>Rhino</td>\n",
       "      <td>61</td>\n",
       "      <td>3.31</td>\n",
       "      <td>2179</td>\n",
       "      <td>Tokyo Zoo</td>\n",
       "    </tr>\n",
       "    <tr>\n",
       "      <th>4</th>\n",
       "      <td>Flamingo</td>\n",
       "      <td>2</td>\n",
       "      <td>1.32</td>\n",
       "      <td>3</td>\n",
       "      <td>Berlin Zoo</td>\n",
       "    </tr>\n",
       "    <tr>\n",
       "      <th>5</th>\n",
       "      <td>Flamingo</td>\n",
       "      <td>26</td>\n",
       "      <td>1.36</td>\n",
       "      <td>3</td>\n",
       "      <td>Berlin Zoo</td>\n",
       "    </tr>\n",
       "    <tr>\n",
       "      <th>6</th>\n",
       "      <td>Panda</td>\n",
       "      <td>30</td>\n",
       "      <td>0.94</td>\n",
       "      <td>108</td>\n",
       "      <td>London Zoo</td>\n",
       "    </tr>\n",
       "    <tr>\n",
       "      <th>7</th>\n",
       "      <td>Flamingo</td>\n",
       "      <td>23</td>\n",
       "      <td>1.31</td>\n",
       "      <td>3</td>\n",
       "      <td>Melbourne Zoo</td>\n",
       "    </tr>\n",
       "    <tr>\n",
       "      <th>8</th>\n",
       "      <td>Tiger</td>\n",
       "      <td>19</td>\n",
       "      <td>1.27</td>\n",
       "      <td>143</td>\n",
       "      <td>Melbourne Zoo</td>\n",
       "    </tr>\n",
       "    <tr>\n",
       "      <th>9</th>\n",
       "      <td>Lion</td>\n",
       "      <td>18</td>\n",
       "      <td>1.73</td>\n",
       "      <td>107</td>\n",
       "      <td>Beijing Zoo</td>\n",
       "    </tr>\n",
       "    <tr>\n",
       "      <th>10</th>\n",
       "      <td>Gorilla</td>\n",
       "      <td>18</td>\n",
       "      <td>1.75</td>\n",
       "      <td>149</td>\n",
       "      <td>Berlin Zoo</td>\n",
       "    </tr>\n",
       "    <tr>\n",
       "      <th>11</th>\n",
       "      <td>Kangaroo</td>\n",
       "      <td>7</td>\n",
       "      <td>1.02</td>\n",
       "      <td>46</td>\n",
       "      <td>Berlin Zoo</td>\n",
       "    </tr>\n",
       "    <tr>\n",
       "      <th>12</th>\n",
       "      <td>Otter</td>\n",
       "      <td>3</td>\n",
       "      <td>0.39</td>\n",
       "      <td>8</td>\n",
       "      <td>Toronto Zoo</td>\n",
       "    </tr>\n",
       "    <tr>\n",
       "      <th>13</th>\n",
       "      <td>Bear</td>\n",
       "      <td>1</td>\n",
       "      <td>1.71</td>\n",
       "      <td>264</td>\n",
       "      <td>Singapore Zoo</td>\n",
       "    </tr>\n",
       "    <tr>\n",
       "      <th>14</th>\n",
       "      <td>Tiger</td>\n",
       "      <td>14</td>\n",
       "      <td>1.15</td>\n",
       "      <td>215</td>\n",
       "      <td>Beijing Zoo</td>\n",
       "    </tr>\n",
       "    <tr>\n",
       "      <th>15</th>\n",
       "      <td>Flamingo</td>\n",
       "      <td>12</td>\n",
       "      <td>1.45</td>\n",
       "      <td>3</td>\n",
       "      <td>Toronto Zoo</td>\n",
       "    </tr>\n",
       "    <tr>\n",
       "      <th>16</th>\n",
       "      <td>Sloth</td>\n",
       "      <td>7</td>\n",
       "      <td>0.39</td>\n",
       "      <td>2</td>\n",
       "      <td>Melbourne Zoo</td>\n",
       "    </tr>\n",
       "    <tr>\n",
       "      <th>17</th>\n",
       "      <td>Meerkat</td>\n",
       "      <td>14</td>\n",
       "      <td>0.34</td>\n",
       "      <td>2</td>\n",
       "      <td>Beijing Zoo</td>\n",
       "    </tr>\n",
       "    <tr>\n",
       "      <th>18</th>\n",
       "      <td>Penguin</td>\n",
       "      <td>11</td>\n",
       "      <td>0.47</td>\n",
       "      <td>9</td>\n",
       "      <td>Toronto Zoo</td>\n",
       "    </tr>\n",
       "    <tr>\n",
       "      <th>19</th>\n",
       "      <td>Gorilla</td>\n",
       "      <td>12</td>\n",
       "      <td>1.52</td>\n",
       "      <td>127</td>\n",
       "      <td>Singapore Zoo</td>\n",
       "    </tr>\n",
       "    <tr>\n",
       "      <th>20</th>\n",
       "      <td>Penguin</td>\n",
       "      <td>20</td>\n",
       "      <td>0.59</td>\n",
       "      <td>20</td>\n",
       "      <td>San Diego Zoo</td>\n",
       "    </tr>\n",
       "    <tr>\n",
       "      <th>21</th>\n",
       "      <td>Gorilla</td>\n",
       "      <td>24</td>\n",
       "      <td>1.45</td>\n",
       "      <td>148</td>\n",
       "      <td>Singapore Zoo</td>\n",
       "    </tr>\n",
       "    <tr>\n",
       "      <th>22</th>\n",
       "      <td>Chimpanzee</td>\n",
       "      <td>17</td>\n",
       "      <td>1.23</td>\n",
       "      <td>74</td>\n",
       "      <td>Beijing Zoo</td>\n",
       "    </tr>\n",
       "    <tr>\n",
       "      <th>23</th>\n",
       "      <td>Giraffe</td>\n",
       "      <td>35</td>\n",
       "      <td>2.74</td>\n",
       "      <td>2051</td>\n",
       "      <td>Melbourne Zoo</td>\n",
       "    </tr>\n",
       "    <tr>\n",
       "      <th>24</th>\n",
       "      <td>Penguin</td>\n",
       "      <td>11</td>\n",
       "      <td>0.43</td>\n",
       "      <td>8</td>\n",
       "      <td>Tokyo Zoo</td>\n",
       "    </tr>\n",
       "    <tr>\n",
       "      <th>25</th>\n",
       "      <td>Rhino</td>\n",
       "      <td>10</td>\n",
       "      <td>4.63</td>\n",
       "      <td>5561</td>\n",
       "      <td>Singapore Zoo</td>\n",
       "    </tr>\n",
       "    <tr>\n",
       "      <th>26</th>\n",
       "      <td>Elephant</td>\n",
       "      <td>44</td>\n",
       "      <td>2.42</td>\n",
       "      <td>1529</td>\n",
       "      <td>San Diego Zoo</td>\n",
       "    </tr>\n",
       "    <tr>\n",
       "      <th>27</th>\n",
       "      <td>Penguin</td>\n",
       "      <td>6</td>\n",
       "      <td>0.58</td>\n",
       "      <td>8</td>\n",
       "      <td>Bronx Zoo</td>\n",
       "    </tr>\n",
       "    <tr>\n",
       "      <th>28</th>\n",
       "      <td>Gorilla</td>\n",
       "      <td>1</td>\n",
       "      <td>1.33</td>\n",
       "      <td>230</td>\n",
       "      <td>Paris Zoo</td>\n",
       "    </tr>\n",
       "    <tr>\n",
       "      <th>29</th>\n",
       "      <td>Bear</td>\n",
       "      <td>12</td>\n",
       "      <td>1.76</td>\n",
       "      <td>96</td>\n",
       "      <td>Paris Zoo</td>\n",
       "    </tr>\n",
       "    <tr>\n",
       "      <th>30</th>\n",
       "      <td>Panda</td>\n",
       "      <td>7</td>\n",
       "      <td>1.10</td>\n",
       "      <td>142</td>\n",
       "      <td>Melbourne Zoo</td>\n",
       "    </tr>\n",
       "    <tr>\n",
       "      <th>31</th>\n",
       "      <td>Wolf</td>\n",
       "      <td>23</td>\n",
       "      <td>1.37</td>\n",
       "      <td>148</td>\n",
       "      <td>Berlin Zoo</td>\n",
       "    </tr>\n",
       "    <tr>\n",
       "      <th>32</th>\n",
       "      <td>Panda</td>\n",
       "      <td>10</td>\n",
       "      <td>0.72</td>\n",
       "      <td>113</td>\n",
       "      <td>Melbourne Zoo</td>\n",
       "    </tr>\n",
       "    <tr>\n",
       "      <th>33</th>\n",
       "      <td>Bear</td>\n",
       "      <td>17</td>\n",
       "      <td>1.00</td>\n",
       "      <td>121</td>\n",
       "      <td>Toronto Zoo</td>\n",
       "    </tr>\n",
       "    <tr>\n",
       "      <th>34</th>\n",
       "      <td>Bear</td>\n",
       "      <td>22</td>\n",
       "      <td>1.18</td>\n",
       "      <td>267</td>\n",
       "      <td>Tokyo Zoo</td>\n",
       "    </tr>\n",
       "    <tr>\n",
       "      <th>35</th>\n",
       "      <td>Meerkat</td>\n",
       "      <td>1</td>\n",
       "      <td>0.42</td>\n",
       "      <td>1</td>\n",
       "      <td>Beijing Zoo</td>\n",
       "    </tr>\n",
       "    <tr>\n",
       "      <th>36</th>\n",
       "      <td>Penguin</td>\n",
       "      <td>20</td>\n",
       "      <td>0.36</td>\n",
       "      <td>5</td>\n",
       "      <td>Paris Zoo</td>\n",
       "    </tr>\n",
       "    <tr>\n",
       "      <th>37</th>\n",
       "      <td>Gorilla</td>\n",
       "      <td>2</td>\n",
       "      <td>1.35</td>\n",
       "      <td>246</td>\n",
       "      <td>London Zoo</td>\n",
       "    </tr>\n",
       "    <tr>\n",
       "      <th>38</th>\n",
       "      <td>Chimpanzee</td>\n",
       "      <td>20</td>\n",
       "      <td>1.23</td>\n",
       "      <td>51</td>\n",
       "      <td>London Zoo</td>\n",
       "    </tr>\n",
       "    <tr>\n",
       "      <th>39</th>\n",
       "      <td>Kangaroo</td>\n",
       "      <td>11</td>\n",
       "      <td>1.42</td>\n",
       "      <td>82</td>\n",
       "      <td>Paris Zoo</td>\n",
       "    </tr>\n",
       "    <tr>\n",
       "      <th>40</th>\n",
       "      <td>Otter</td>\n",
       "      <td>6</td>\n",
       "      <td>0.38</td>\n",
       "      <td>11</td>\n",
       "      <td>Toronto Zoo</td>\n",
       "    </tr>\n",
       "    <tr>\n",
       "      <th>41</th>\n",
       "      <td>Leopard</td>\n",
       "      <td>25</td>\n",
       "      <td>0.91</td>\n",
       "      <td>46</td>\n",
       "      <td>Tokyo Zoo</td>\n",
       "    </tr>\n",
       "    <tr>\n",
       "      <th>42</th>\n",
       "      <td>Crocodile</td>\n",
       "      <td>14</td>\n",
       "      <td>1.46</td>\n",
       "      <td>49</td>\n",
       "      <td>Melbourne Zoo</td>\n",
       "    </tr>\n",
       "    <tr>\n",
       "      <th>43</th>\n",
       "      <td>Bear</td>\n",
       "      <td>19</td>\n",
       "      <td>1.33</td>\n",
       "      <td>233</td>\n",
       "      <td>Paris Zoo</td>\n",
       "    </tr>\n",
       "    <tr>\n",
       "      <th>44</th>\n",
       "      <td>Chimpanzee</td>\n",
       "      <td>12</td>\n",
       "      <td>0.93</td>\n",
       "      <td>76</td>\n",
       "      <td>Berlin Zoo</td>\n",
       "    </tr>\n",
       "    <tr>\n",
       "      <th>45</th>\n",
       "      <td>Flamingo</td>\n",
       "      <td>25</td>\n",
       "      <td>0.99</td>\n",
       "      <td>4</td>\n",
       "      <td>London Zoo</td>\n",
       "    </tr>\n",
       "    <tr>\n",
       "      <th>46</th>\n",
       "      <td>Meerkat</td>\n",
       "      <td>8</td>\n",
       "      <td>0.55</td>\n",
       "      <td>11</td>\n",
       "      <td>Paris Zoo</td>\n",
       "    </tr>\n",
       "    <tr>\n",
       "      <th>47</th>\n",
       "      <td>Otter</td>\n",
       "      <td>2</td>\n",
       "      <td>0.45</td>\n",
       "      <td>19</td>\n",
       "      <td>Melbourne Zoo</td>\n",
       "    </tr>\n",
       "    <tr>\n",
       "      <th>48</th>\n",
       "      <td>Bear</td>\n",
       "      <td>12</td>\n",
       "      <td>1.04</td>\n",
       "      <td>212</td>\n",
       "      <td>Toronto Zoo</td>\n",
       "    </tr>\n",
       "    <tr>\n",
       "      <th>49</th>\n",
       "      <td>Gorilla</td>\n",
       "      <td>19</td>\n",
       "      <td>1.38</td>\n",
       "      <td>98</td>\n",
       "      <td>Melbourne Zoo</td>\n",
       "    </tr>\n",
       "  </tbody>\n",
       "</table>\n",
       "</div>"
      ],
      "text/plain": [
       "   animal_name  age  height  weight   zoo_location\n",
       "0         Wolf    2    1.23      36      Bronx Zoo\n",
       "1         Wolf   19    1.07      30     Berlin Zoo\n",
       "2     Kangaroo   25    1.39      88  San Diego Zoo\n",
       "3        Rhino   61    3.31    2179      Tokyo Zoo\n",
       "4     Flamingo    2    1.32       3     Berlin Zoo\n",
       "5     Flamingo   26    1.36       3     Berlin Zoo\n",
       "6        Panda   30    0.94     108     London Zoo\n",
       "7     Flamingo   23    1.31       3  Melbourne Zoo\n",
       "8        Tiger   19    1.27     143  Melbourne Zoo\n",
       "9         Lion   18    1.73     107    Beijing Zoo\n",
       "10     Gorilla   18    1.75     149     Berlin Zoo\n",
       "11    Kangaroo    7    1.02      46     Berlin Zoo\n",
       "12       Otter    3    0.39       8    Toronto Zoo\n",
       "13        Bear    1    1.71     264  Singapore Zoo\n",
       "14       Tiger   14    1.15     215    Beijing Zoo\n",
       "15    Flamingo   12    1.45       3    Toronto Zoo\n",
       "16       Sloth    7    0.39       2  Melbourne Zoo\n",
       "17     Meerkat   14    0.34       2    Beijing Zoo\n",
       "18     Penguin   11    0.47       9    Toronto Zoo\n",
       "19     Gorilla   12    1.52     127  Singapore Zoo\n",
       "20     Penguin   20    0.59      20  San Diego Zoo\n",
       "21     Gorilla   24    1.45     148  Singapore Zoo\n",
       "22  Chimpanzee   17    1.23      74    Beijing Zoo\n",
       "23     Giraffe   35    2.74    2051  Melbourne Zoo\n",
       "24     Penguin   11    0.43       8      Tokyo Zoo\n",
       "25       Rhino   10    4.63    5561  Singapore Zoo\n",
       "26    Elephant   44    2.42    1529  San Diego Zoo\n",
       "27     Penguin    6    0.58       8      Bronx Zoo\n",
       "28     Gorilla    1    1.33     230      Paris Zoo\n",
       "29        Bear   12    1.76      96      Paris Zoo\n",
       "30       Panda    7    1.10     142  Melbourne Zoo\n",
       "31        Wolf   23    1.37     148     Berlin Zoo\n",
       "32       Panda   10    0.72     113  Melbourne Zoo\n",
       "33        Bear   17    1.00     121    Toronto Zoo\n",
       "34        Bear   22    1.18     267      Tokyo Zoo\n",
       "35     Meerkat    1    0.42       1    Beijing Zoo\n",
       "36     Penguin   20    0.36       5      Paris Zoo\n",
       "37     Gorilla    2    1.35     246     London Zoo\n",
       "38  Chimpanzee   20    1.23      51     London Zoo\n",
       "39    Kangaroo   11    1.42      82      Paris Zoo\n",
       "40       Otter    6    0.38      11    Toronto Zoo\n",
       "41     Leopard   25    0.91      46      Tokyo Zoo\n",
       "42   Crocodile   14    1.46      49  Melbourne Zoo\n",
       "43        Bear   19    1.33     233      Paris Zoo\n",
       "44  Chimpanzee   12    0.93      76     Berlin Zoo\n",
       "45    Flamingo   25    0.99       4     London Zoo\n",
       "46     Meerkat    8    0.55      11      Paris Zoo\n",
       "47       Otter    2    0.45      19  Melbourne Zoo\n",
       "48        Bear   12    1.04     212    Toronto Zoo\n",
       "49     Gorilla   19    1.38      98  Melbourne Zoo"
      ]
     },
     "execution_count": 2,
     "metadata": {},
     "output_type": "execute_result"
    }
   ],
   "source": [
    "df = pd.read_csv(\"zoo_animals.csv\", sep=\",\")\n",
    "df # Jupyter notebooks printen altijd de laatste regel van een code cel."
   ]
  },
  {
   "cell_type": "code",
   "execution_count": 3,
   "id": "006a817c",
   "metadata": {},
   "outputs": [
    {
     "data": {
      "text/html": [
       "<div>\n",
       "<style scoped>\n",
       "    .dataframe tbody tr th:only-of-type {\n",
       "        vertical-align: middle;\n",
       "    }\n",
       "\n",
       "    .dataframe tbody tr th {\n",
       "        vertical-align: top;\n",
       "    }\n",
       "\n",
       "    .dataframe thead th {\n",
       "        text-align: right;\n",
       "    }\n",
       "</style>\n",
       "<table border=\"1\" class=\"dataframe\">\n",
       "  <thead>\n",
       "    <tr style=\"text-align: right;\">\n",
       "      <th></th>\n",
       "      <th>animal_name</th>\n",
       "      <th>age</th>\n",
       "      <th>height</th>\n",
       "      <th>weight</th>\n",
       "      <th>zoo_location</th>\n",
       "    </tr>\n",
       "  </thead>\n",
       "  <tbody>\n",
       "    <tr>\n",
       "      <th>0</th>\n",
       "      <td>Wolf</td>\n",
       "      <td>2</td>\n",
       "      <td>1.23</td>\n",
       "      <td>36</td>\n",
       "      <td>Bronx Zoo</td>\n",
       "    </tr>\n",
       "    <tr>\n",
       "      <th>1</th>\n",
       "      <td>Wolf</td>\n",
       "      <td>19</td>\n",
       "      <td>1.07</td>\n",
       "      <td>30</td>\n",
       "      <td>Berlin Zoo</td>\n",
       "    </tr>\n",
       "    <tr>\n",
       "      <th>2</th>\n",
       "      <td>Kangaroo</td>\n",
       "      <td>25</td>\n",
       "      <td>1.39</td>\n",
       "      <td>88</td>\n",
       "      <td>San Diego Zoo</td>\n",
       "    </tr>\n",
       "    <tr>\n",
       "      <th>3</th>\n",
       "      <td>Rhino</td>\n",
       "      <td>61</td>\n",
       "      <td>3.31</td>\n",
       "      <td>2179</td>\n",
       "      <td>Tokyo Zoo</td>\n",
       "    </tr>\n",
       "    <tr>\n",
       "      <th>4</th>\n",
       "      <td>Flamingo</td>\n",
       "      <td>2</td>\n",
       "      <td>1.32</td>\n",
       "      <td>3</td>\n",
       "      <td>Berlin Zoo</td>\n",
       "    </tr>\n",
       "  </tbody>\n",
       "</table>\n",
       "</div>"
      ],
      "text/plain": [
       "  animal_name  age  height  weight   zoo_location\n",
       "0        Wolf    2    1.23      36      Bronx Zoo\n",
       "1        Wolf   19    1.07      30     Berlin Zoo\n",
       "2    Kangaroo   25    1.39      88  San Diego Zoo\n",
       "3       Rhino   61    3.31    2179      Tokyo Zoo\n",
       "4    Flamingo    2    1.32       3     Berlin Zoo"
      ]
     },
     "execution_count": 3,
     "metadata": {},
     "output_type": "execute_result"
    }
   ],
   "source": [
    "df.head() # print de bovenste 5"
   ]
  },
  {
   "cell_type": "markdown",
   "id": "93cbd29b",
   "metadata": {},
   "source": [
    "### hoeveel data hebben we eigenlijk?\n",
    "Bekijk voor elke kolom hoeveel datapunten er zijn"
   ]
  },
  {
   "cell_type": "code",
   "execution_count": 4,
   "id": "85c43ca1",
   "metadata": {},
   "outputs": [
    {
     "data": {
      "text/plain": [
       "animal_name     50\n",
       "age             50\n",
       "height          50\n",
       "weight          50\n",
       "zoo_location    50\n",
       "dtype: int64"
      ]
     },
     "execution_count": 4,
     "metadata": {},
     "output_type": "execute_result"
    }
   ],
   "source": [
    "df.count()"
   ]
  },
  {
   "cell_type": "code",
   "execution_count": 5,
   "id": "aab35781",
   "metadata": {},
   "outputs": [
    {
     "name": "stdout",
     "output_type": "stream",
     "text": [
      "<class 'pandas.core.frame.DataFrame'>\n",
      "RangeIndex: 50 entries, 0 to 49\n",
      "Data columns (total 5 columns):\n",
      " #   Column        Non-Null Count  Dtype  \n",
      "---  ------        --------------  -----  \n",
      " 0   animal_name   50 non-null     object \n",
      " 1   age           50 non-null     int64  \n",
      " 2   height        50 non-null     float64\n",
      " 3   weight        50 non-null     int64  \n",
      " 4   zoo_location  50 non-null     object \n",
      "dtypes: float64(1), int64(2), object(2)\n",
      "memory usage: 2.1+ KB\n"
     ]
    }
   ],
   "source": [
    "df.info()"
   ]
  },
  {
   "cell_type": "markdown",
   "id": "9f79e6f7",
   "metadata": {},
   "source": [
    "## Wat zijn de types van de data?\n",
    "print een overzicht van de types van elke kolom"
   ]
  },
  {
   "cell_type": "code",
   "execution_count": 6,
   "id": "c66615ff",
   "metadata": {},
   "outputs": [
    {
     "data": {
      "text/plain": [
       "animal_name      object\n",
       "age               int64\n",
       "height          float64\n",
       "weight            int64\n",
       "zoo_location     object\n",
       "dtype: object"
      ]
     },
     "execution_count": 6,
     "metadata": {},
     "output_type": "execute_result"
    }
   ],
   "source": [
    "df.dtypes"
   ]
  },
  {
   "cell_type": "markdown",
   "id": "62be571e",
   "metadata": {},
   "source": [
    "### Welke dierentuinen hebben we?\n",
    "print een overzicht van de unieke dierentuinen en hoe vaak ze voorkomen"
   ]
  },
  {
   "cell_type": "code",
   "execution_count": 7,
   "id": "ac961d31",
   "metadata": {},
   "outputs": [
    {
     "data": {
      "text/plain": [
       "array(['Bronx Zoo', 'Berlin Zoo', 'San Diego Zoo', 'Tokyo Zoo',\n",
       "       'London Zoo', 'Melbourne Zoo', 'Beijing Zoo', 'Toronto Zoo',\n",
       "       'Singapore Zoo', 'Paris Zoo'], dtype=object)"
      ]
     },
     "execution_count": 7,
     "metadata": {},
     "output_type": "execute_result"
    }
   ],
   "source": [
    "df[\"zoo_location\"].unique()"
   ]
  },
  {
   "cell_type": "code",
   "execution_count": 8,
   "id": "d32bfe0f",
   "metadata": {},
   "outputs": [
    {
     "data": {
      "text/plain": [
       "zoo_location\n",
       "Melbourne Zoo    9\n",
       "Berlin Zoo       7\n",
       "Paris Zoo        6\n",
       "Toronto Zoo      6\n",
       "Beijing Zoo      5\n",
       "Tokyo Zoo        4\n",
       "Singapore Zoo    4\n",
       "London Zoo       4\n",
       "San Diego Zoo    3\n",
       "Bronx Zoo        2\n",
       "Name: count, dtype: int64"
      ]
     },
     "execution_count": 8,
     "metadata": {},
     "output_type": "execute_result"
    }
   ],
   "source": [
    "df[\"zoo_location\"].value_counts()"
   ]
  },
  {
   "cell_type": "code",
   "execution_count": 10,
   "id": "9f45f583",
   "metadata": {},
   "outputs": [
    {
     "data": {
      "text/plain": [
       "array(['Bronx Zoo', 'Berlin Zoo', 'San Diego Zoo', 'Tokyo Zoo',\n",
       "       'London Zoo', 'Melbourne Zoo', 'Beijing Zoo', 'Toronto Zoo',\n",
       "       'Singapore Zoo', 'Paris Zoo'], dtype=object)"
      ]
     },
     "execution_count": 10,
     "metadata": {},
     "output_type": "execute_result"
    }
   ],
   "source": [
    "df.zoo_location.unique() # Dont do this"
   ]
  },
  {
   "cell_type": "markdown",
   "id": "d5765690",
   "metadata": {},
   "source": [
    "# pd.DataFrame vs pd.Series"
   ]
  },
  {
   "cell_type": "code",
   "execution_count": 17,
   "id": "7e9e0f89",
   "metadata": {},
   "outputs": [
    {
     "data": {
      "text/plain": [
       "0        Bronx Zoo\n",
       "1       Berlin Zoo\n",
       "2    San Diego Zoo\n",
       "Name: zoo_location, dtype: object"
      ]
     },
     "execution_count": 17,
     "metadata": {},
     "output_type": "execute_result"
    }
   ],
   "source": [
    "df[\"zoo_location\"][:3] # series"
   ]
  },
  {
   "cell_type": "code",
   "execution_count": 15,
   "id": "27cf74a5",
   "metadata": {},
   "outputs": [
    {
     "data": {
      "text/html": [
       "<div>\n",
       "<style scoped>\n",
       "    .dataframe tbody tr th:only-of-type {\n",
       "        vertical-align: middle;\n",
       "    }\n",
       "\n",
       "    .dataframe tbody tr th {\n",
       "        vertical-align: top;\n",
       "    }\n",
       "\n",
       "    .dataframe thead th {\n",
       "        text-align: right;\n",
       "    }\n",
       "</style>\n",
       "<table border=\"1\" class=\"dataframe\">\n",
       "  <thead>\n",
       "    <tr style=\"text-align: right;\">\n",
       "      <th></th>\n",
       "      <th>zoo_location</th>\n",
       "      <th>age</th>\n",
       "    </tr>\n",
       "  </thead>\n",
       "  <tbody>\n",
       "    <tr>\n",
       "      <th>0</th>\n",
       "      <td>Bronx Zoo</td>\n",
       "      <td>2</td>\n",
       "    </tr>\n",
       "    <tr>\n",
       "      <th>1</th>\n",
       "      <td>Berlin Zoo</td>\n",
       "      <td>19</td>\n",
       "    </tr>\n",
       "    <tr>\n",
       "      <th>2</th>\n",
       "      <td>San Diego Zoo</td>\n",
       "      <td>25</td>\n",
       "    </tr>\n",
       "  </tbody>\n",
       "</table>\n",
       "</div>"
      ],
      "text/plain": [
       "    zoo_location  age\n",
       "0      Bronx Zoo    2\n",
       "1     Berlin Zoo   19\n",
       "2  San Diego Zoo   25"
      ]
     },
     "execution_count": 15,
     "metadata": {},
     "output_type": "execute_result"
    }
   ],
   "source": [
    "df[[\"zoo_location\", \"age\"]][:3] # DataFrame"
   ]
  },
  {
   "cell_type": "markdown",
   "id": "1f98da66",
   "metadata": {},
   "source": [
    "dus\n"
   ]
  },
  {
   "cell_type": "code",
   "execution_count": 22,
   "id": "1ad12d18",
   "metadata": {},
   "outputs": [
    {
     "data": {
      "text/plain": [
       "zoo_location \n",
       "Melbourne Zoo    9\n",
       "Berlin Zoo       7\n",
       "Toronto Zoo      6\n",
       "Paris Zoo        6\n",
       "Beijing Zoo      5\n",
       "London Zoo       4\n",
       "Tokyo Zoo        4\n",
       "Singapore Zoo    4\n",
       "San Diego Zoo    3\n",
       "Bronx Zoo        2\n",
       "Name: count, dtype: int64"
      ]
     },
     "execution_count": 22,
     "metadata": {},
     "output_type": "execute_result"
    }
   ],
   "source": [
    "df[[\"zoo_location\"]].value_counts()"
   ]
  },
  {
   "cell_type": "markdown",
   "id": "79ca51f2",
   "metadata": {},
   "source": [
    "# Overzicht als diagram\n",
    "Print nu nogmaals de unieke dierentuinen, maar geef ze weer als een diagram. Bedenk zelf welke vorm van visualisatie het meest geschikt is."
   ]
  },
  {
   "cell_type": "code",
   "execution_count": 44,
   "id": "ab091979",
   "metadata": {},
   "outputs": [
    {
     "data": {
      "image/png": "[encoded data removed]",
      "text/plain": [
       "<Figure size 500x500 with 1 Axes>"
      ]
     },
     "metadata": {},
     "output_type": "display_data"
    }
   ],
   "source": [
    "df[\"zoo_location\"].value_counts().plot.pie(figsize=[5,5])\n",
    "plt.title(\"Dit is een pie chart van de dierentuinen\")\n",
    "plt.ylabel(\"\")\n",
    "# plt.legend()\n",
    "plt.show()"
   ]
  },
  {
   "cell_type": "markdown",
   "id": "7d0f4175",
   "metadata": {},
   "source": [
    "# Hoe zit dat met de andere kolommen?\n",
    "Geef nu voor elke andere kolom een overzicht van de unieke waardes. Bepaal zelf welke vorm van visualisatie hier het meest geschikt voor is. Bij voorkeur als een diagram."
   ]
  },
  {
   "cell_type": "code",
   "execution_count": 47,
   "id": "52f866de",
   "metadata": {},
   "outputs": [
    {
     "data": {
      "text/plain": [
       "<Axes: ylabel='Frequency'>"
      ]
     },
     "execution_count": 47,
     "metadata": {},
     "output_type": "execute_result"
    },
    {
     "data": {
      "image/png": "[encoded data removed]",
      "text/plain": [
       "<Figure size 640x480 with 1 Axes>"
      ]
     },
     "metadata": {},
     "output_type": "display_data"
    }
   ],
   "source": [
    "df[\"age\"].plot.hist(bins=20)"
   ]
  },
  {
   "cell_type": "code",
   "execution_count": 49,
   "id": "dfae0c68",
   "metadata": {},
   "outputs": [
    {
     "data": {
      "text/plain": [
       "<Axes: >"
      ]
     },
     "execution_count": 49,
     "metadata": {},
     "output_type": "execute_result"
    },
    {
     "data": {
      "image/png": "[encoded data removed]",
      "text/plain": [
       "<Figure size 640x480 with 1 Axes>"
      ]
     },
     "metadata": {},
     "output_type": "display_data"
    }
   ],
   "source": [
    "df[\"age\"].plot.box()"
   ]
  },
  {
   "cell_type": "markdown",
   "id": "290dfa96",
   "metadata": {},
   "source": [
    "### Rekenen met pandas\n",
    "Bereken nu de gemiddelde leeftijd van alle dieren"
   ]
  },
  {
   "cell_type": "code",
   "execution_count": null,
   "id": "983daac0",
   "metadata": {},
   "outputs": [],
   "source": []
  },
  {
   "cell_type": "markdown",
   "id": "b87d36c4",
   "metadata": {},
   "source": [
    "Oke, nu de minimale en maximale leeftijden."
   ]
  },
  {
   "cell_type": "code",
   "execution_count": null,
   "id": "3123aa2f",
   "metadata": {},
   "outputs": [],
   "source": []
  },
  {
   "cell_type": "markdown",
   "id": "521d1234",
   "metadata": {},
   "source": [
    "Oke, en probeer nu al de bovenstaande in een enkele regel t edoen, als je dit nog niet had gedaan"
   ]
  },
  {
   "cell_type": "code",
   "execution_count": null,
   "id": "96c6418d",
   "metadata": {},
   "outputs": [],
   "source": []
  },
  {
   "cell_type": "markdown",
   "id": "7b42087b",
   "metadata": {},
   "source": [
    "Als je dit nog niet eerder had gedaan, maak dan een box plot van deze data. Wat zie je hier in?"
   ]
  },
  {
   "cell_type": "code",
   "execution_count": null,
   "id": "4da90318",
   "metadata": {},
   "outputs": [],
   "source": []
  },
  {
   "cell_type": "markdown",
   "id": "6aeadacd",
   "metadata": {},
   "source": [
    "### Alleen voor specifieke dieren\n",
    "Bereken nu dezelfde waardes als voor de age, maar dan voor de gewicht kolom, specifiek alleen voor de dieren uit de Melbourne Zoo"
   ]
  },
  {
   "cell_type": "code",
   "execution_count": null,
   "id": "e6d0c4e1",
   "metadata": {},
   "outputs": [],
   "source": []
  },
  {
   "cell_type": "markdown",
   "id": "4ff180d6",
   "metadata": {},
   "source": [
    "### Nog meer filteren\n",
    "print nu een overzicht van alleen de namen van alle dieren die kleiner dan 1 meter zijn. Let op dat we hier op zoek zijn naar de unieke namen"
   ]
  },
  {
   "cell_type": "code",
   "execution_count": null,
   "id": "0db60769",
   "metadata": {},
   "outputs": [],
   "source": []
  },
  {
   "cell_type": "markdown",
   "id": "297691f2",
   "metadata": {},
   "source": [
    "# groeperen\n",
    "Geef nu een overzicht van de maximale leeftijd per dier, gebruik hiervoor de `.group()` methode."
   ]
  },
  {
   "cell_type": "code",
   "execution_count": null,
   "id": "b4452c32",
   "metadata": {},
   "outputs": [],
   "source": []
  },
  {
   "cell_type": "markdown",
   "id": "96143f55",
   "metadata": {},
   "source": [
    "### Groeperen, vervolg\n",
    "We zijn vaak niet op zoek naar de individuele datapunten, maar we willen vaak iets zetten over bepaalde groepen in de data. Probeer alle data eens te groeperen per dierentuin. Denk zelf goed na over wat een goede manier is om de data te groeperen tot een enkel getal."
   ]
  },
  {
   "cell_type": "code",
   "execution_count": null,
   "id": "94a01822",
   "metadata": {},
   "outputs": [],
   "source": []
  },
  {
   "cell_type": "markdown",
   "id": "b5372f68",
   "metadata": {},
   "source": [
    "# **Bonus:** Corrupted data\n",
    "Probeer nu alle stappen te herhalen op de corrupted versie van de dataset in `zoo_animals_corrupted.csv`. Probeer dit eerst zonder het bestand te openen. Kijk of je alle problemen op kan lossen en denk na over wat je wil doen met de data die niet klopt. Kan je het oplossen? of moet je de data weggooien."
   ]
  },
  {
   "cell_type": "code",
   "execution_count": null,
   "id": "70f2d671",
   "metadata": {},
   "outputs": [],
   "source": []
  }
 ],
 "metadata": {
  "kernelspec": {
   "display_name": "HCAI_python_TA",
   "language": "python",
   "name": "python3"
  },
  "language_info": {
   "codemirror_mode": {
    "name": "ipython",
    "version": 3
   },
   "file_extension": ".py",
   "mimetype": "text/x-python",
   "name": "python",
   "nbconvert_exporter": "python",
   "pygments_lexer": "ipython3",
   "version": "3.13.5"
  }
 },
 "nbformat": 4,
 "nbformat_minor": 5
}
