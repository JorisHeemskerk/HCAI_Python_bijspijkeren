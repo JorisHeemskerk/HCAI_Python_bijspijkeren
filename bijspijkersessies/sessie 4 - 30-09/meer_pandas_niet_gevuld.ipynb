{
 "cells": [
  {
   "cell_type": "markdown",
   "id": "2e39a615",
   "metadata": {},
   "source": [
    "# Meer pandas!\n",
    "\n",
    "In dit notebook gaan we nog veel meer doen met de pandas package van python!"
   ]
  },
  {
   "cell_type": "code",
   "execution_count": 1,
   "id": "4cfd744f",
   "metadata": {},
   "outputs": [],
   "source": [
    "import pandas as pd"
   ]
  },
  {
   "cell_type": "markdown",
   "id": "c8276505",
   "metadata": {},
   "source": [
    "### data inlezen\n",
    "\n",
    "Laten we eerst de zoo_animals.csv eens inlezen als een dataframe"
   ]
  },
  {
   "cell_type": "code",
   "execution_count": null,
   "id": "538c25c7",
   "metadata": {},
   "outputs": [],
   "source": []
  },
  {
   "cell_type": "markdown",
   "id": "93cbd29b",
   "metadata": {},
   "source": [
    "### hoeveel data hebben we eigenlijk?\n",
    "Bekijk voor elke kolom hoeveel datapunten er zijn"
   ]
  },
  {
   "cell_type": "code",
   "execution_count": null,
   "id": "85c43ca1",
   "metadata": {},
   "outputs": [],
   "source": []
  },
  {
   "cell_type": "markdown",
   "id": "9f79e6f7",
   "metadata": {},
   "source": [
    "## Wat zijn de types van de data?\n",
    "print een overzicht van de types van elke kolom"
   ]
  },
  {
   "cell_type": "code",
   "execution_count": null,
   "id": "c66615ff",
   "metadata": {},
   "outputs": [],
   "source": []
  },
  {
   "cell_type": "markdown",
   "id": "62be571e",
   "metadata": {},
   "source": [
    "### Welke dierentuinen hebben we?\n",
    "print een overzicht van de unieke dierentuinen en hoe vaak ze voorkomen"
   ]
  },
  {
   "cell_type": "code",
   "execution_count": null,
   "id": "ac961d31",
   "metadata": {},
   "outputs": [],
   "source": []
  },
  {
   "cell_type": "markdown",
   "id": "79ca51f2",
   "metadata": {},
   "source": [
    "# Overzicht als diagram\n",
    "Print nu nogmaals de unieke dierentuinen, maar geef ze weer als een diagram. Bedenk zelf welke vorm van visualisatie het meest geschikt is."
   ]
  },
  {
   "cell_type": "code",
   "execution_count": null,
   "id": "ab091979",
   "metadata": {},
   "outputs": [],
   "source": []
  },
  {
   "cell_type": "markdown",
   "id": "7d0f4175",
   "metadata": {},
   "source": [
    "# Hoe zit dat met de andere kolommen?\n",
    "Geef nu voor elke andere kolom een overzicht van de unieke waardes. Bepaal zelf welke vorm van visualisatie hier het meest geschikt voor is. Bij voorkeur als een diagram."
   ]
  },
  {
   "cell_type": "code",
   "execution_count": null,
   "id": "52f866de",
   "metadata": {},
   "outputs": [],
   "source": []
  },
  {
   "cell_type": "markdown",
   "id": "290dfa96",
   "metadata": {},
   "source": [
    "### Rekenen met pandas\n",
    "Bereken nu de gemiddelde leeftijd van alle dieren"
   ]
  },
  {
   "cell_type": "code",
   "execution_count": null,
   "id": "983daac0",
   "metadata": {},
   "outputs": [],
   "source": []
  },
  {
   "cell_type": "markdown",
   "id": "b87d36c4",
   "metadata": {},
   "source": [
    "Oke, nu de minimale en maximale leeftijden."
   ]
  },
  {
   "cell_type": "code",
   "execution_count": null,
   "id": "3123aa2f",
   "metadata": {},
   "outputs": [],
   "source": []
  },
  {
   "cell_type": "markdown",
   "id": "521d1234",
   "metadata": {},
   "source": [
    "Oke, en probeer nu al de bovenstaande in een enkele regel t edoen, als je dit nog niet had gedaan"
   ]
  },
  {
   "cell_type": "code",
   "execution_count": null,
   "id": "96c6418d",
   "metadata": {},
   "outputs": [],
   "source": []
  },
  {
   "cell_type": "markdown",
   "id": "7b42087b",
   "metadata": {},
   "source": [
    "Als je dit nog niet eerder had gedaan, maak dan een box plot van deze data. Wat zie je hier in?"
   ]
  },
  {
   "cell_type": "code",
   "execution_count": null,
   "id": "4da90318",
   "metadata": {},
   "outputs": [],
   "source": []
  },
  {
   "cell_type": "markdown",
   "id": "6aeadacd",
   "metadata": {},
   "source": [
    "### Alleen voor specifieke dieren\n",
    "Bereken nu dezelfde waardes als voor de age, maar dan voor de gewicht kolom, specifiek alleen voor de dieren uit de Melbourne Zoo"
   ]
  },
  {
   "cell_type": "code",
   "execution_count": null,
   "id": "e6d0c4e1",
   "metadata": {},
   "outputs": [],
   "source": []
  },
  {
   "cell_type": "markdown",
   "id": "4ff180d6",
   "metadata": {},
   "source": [
    "### Nog meer filteren\n",
    "print nu een overzicht van alleen de namen van alle dieren die kleiner dan 1 meter zijn. Let op dat we hier op zoek zijn naar de unieke namen"
   ]
  },
  {
   "cell_type": "code",
   "execution_count": null,
   "id": "0db60769",
   "metadata": {},
   "outputs": [],
   "source": []
  },
  {
   "cell_type": "markdown",
   "id": "297691f2",
   "metadata": {},
   "source": [
    "# groeperen\n",
    "Geef nu een overzicht van de maximale leeftijd per dier, gebruik hiervoor de `.group()` methode."
   ]
  },
  {
   "cell_type": "code",
   "execution_count": null,
   "id": "b4452c32",
   "metadata": {},
   "outputs": [],
   "source": []
  },
  {
   "cell_type": "markdown",
   "id": "96143f55",
   "metadata": {},
   "source": [
    "### Groeperen, vervolg\n",
    "We zijn vaak niet op zoek naar de individuele datapunten, maar we willen vaak iets zetten over bepaalde groepen in de data. Probeer alle data eens te groeperen per dierentuin. Denk zelf goed na over wat een goede manier is om de data te groeperen tot een enkel getal."
   ]
  },
  {
   "cell_type": "code",
   "execution_count": null,
   "id": "94a01822",
   "metadata": {},
   "outputs": [],
   "source": []
  },
  {
   "cell_type": "markdown",
   "id": "b5372f68",
   "metadata": {},
   "source": [
    "# **Bonus:** Corrupted data\n",
    "Probeer nu alle stappen te herhalen op de corrupted versie van de dataset in `zoo_animals_corrupted.csv`. Probeer dit eerst zonder het bestand te openen. Kijk of je alle problemen op kan lossen en denk na over wat je wil doen met de data die niet klopt. Kan je het oplossen? of moet je de data weggooien."
   ]
  },
  {
   "cell_type": "code",
   "execution_count": null,
   "id": "70f2d671",
   "metadata": {},
   "outputs": [],
   "source": []
  }
 ],
 "metadata": {
  "kernelspec": {
   "display_name": "HCAI_python_TA",
   "language": "python",
   "name": "python3"
  },
  "language_info": {
   "codemirror_mode": {
    "name": "ipython",
    "version": 3
   },
   "file_extension": ".py",
   "mimetype": "text/x-python",
   "name": "python",
   "nbconvert_exporter": "python",
   "pygments_lexer": "ipython3",
   "version": "3.13.5"
  }
 },
 "nbformat": 4,
 "nbformat_minor": 5
}
