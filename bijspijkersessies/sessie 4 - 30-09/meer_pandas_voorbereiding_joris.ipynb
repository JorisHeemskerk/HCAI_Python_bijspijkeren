{
 "cells": [
  {
   "cell_type": "markdown",
   "id": "2e39a615",
   "metadata": {},
   "source": [
    "# Meer pandas!\n",
    "\n",
    "In dit notebook gaan we nog veel meer doen met de pandas package van python!"
   ]
  },
  {
   "cell_type": "code",
   "execution_count": 1,
   "id": "4cfd744f",
   "metadata": {},
   "outputs": [],
   "source": [
    "import pandas as pd"
   ]
  },
  {
   "cell_type": "markdown",
   "id": "c8276505",
   "metadata": {},
   "source": [
    "### data inlezen\n",
    "\n",
    "Laten we eerst de zoo_animals.csv eens inlezen als een dataframe"
   ]
  },
  {
   "cell_type": "code",
   "execution_count": 2,
   "id": "538c25c7",
   "metadata": {},
   "outputs": [
    {
     "data": {
      "text/html": [
       "<div>\n",
       "<style scoped>\n",
       "    .dataframe tbody tr th:only-of-type {\n",
       "        vertical-align: middle;\n",
       "    }\n",
       "\n",
       "    .dataframe tbody tr th {\n",
       "        vertical-align: top;\n",
       "    }\n",
       "\n",
       "    .dataframe thead th {\n",
       "        text-align: right;\n",
       "    }\n",
       "</style>\n",
       "<table border=\"1\" class=\"dataframe\">\n",
       "  <thead>\n",
       "    <tr style=\"text-align: right;\">\n",
       "      <th></th>\n",
       "      <th>animal_name</th>\n",
       "      <th>age</th>\n",
       "      <th>height</th>\n",
       "      <th>weight</th>\n",
       "      <th>zoo_location</th>\n",
       "    </tr>\n",
       "  </thead>\n",
       "  <tbody>\n",
       "    <tr>\n",
       "      <th>0</th>\n",
       "      <td>Wolf</td>\n",
       "      <td>2</td>\n",
       "      <td>1.23</td>\n",
       "      <td>36</td>\n",
       "      <td>Bronx Zoo</td>\n",
       "    </tr>\n",
       "    <tr>\n",
       "      <th>1</th>\n",
       "      <td>Wolf</td>\n",
       "      <td>19</td>\n",
       "      <td>1.07</td>\n",
       "      <td>30</td>\n",
       "      <td>Berlin Zoo</td>\n",
       "    </tr>\n",
       "    <tr>\n",
       "      <th>2</th>\n",
       "      <td>Kangaroo</td>\n",
       "      <td>25</td>\n",
       "      <td>1.39</td>\n",
       "      <td>88</td>\n",
       "      <td>San Diego Zoo</td>\n",
       "    </tr>\n",
       "    <tr>\n",
       "      <th>3</th>\n",
       "      <td>Rhino</td>\n",
       "      <td>61</td>\n",
       "      <td>3.31</td>\n",
       "      <td>2179</td>\n",
       "      <td>Tokyo Zoo</td>\n",
       "    </tr>\n",
       "    <tr>\n",
       "      <th>4</th>\n",
       "      <td>Flamingo</td>\n",
       "      <td>2</td>\n",
       "      <td>1.32</td>\n",
       "      <td>3</td>\n",
       "      <td>Berlin Zoo</td>\n",
       "    </tr>\n",
       "  </tbody>\n",
       "</table>\n",
       "</div>"
      ],
      "text/plain": [
       "  animal_name  age  height  weight   zoo_location\n",
       "0        Wolf    2    1.23      36      Bronx Zoo\n",
       "1        Wolf   19    1.07      30     Berlin Zoo\n",
       "2    Kangaroo   25    1.39      88  San Diego Zoo\n",
       "3       Rhino   61    3.31    2179      Tokyo Zoo\n",
       "4    Flamingo    2    1.32       3     Berlin Zoo"
      ]
     },
     "execution_count": 2,
     "metadata": {},
     "output_type": "execute_result"
    }
   ],
   "source": [
    "df = pd.read_csv(\"zoo_animals.csv\")\n",
    "df.head()"
   ]
  },
  {
   "cell_type": "markdown",
   "id": "93cbd29b",
   "metadata": {},
   "source": [
    "### hoeveel data hebben we eigenlijk?\n",
    "Bekijk voor elke kolom hoeveel datapunten er zijn"
   ]
  },
  {
   "cell_type": "code",
   "execution_count": 3,
   "id": "85c43ca1",
   "metadata": {},
   "outputs": [
    {
     "data": {
      "text/plain": [
       "animal_name     50\n",
       "age             50\n",
       "height          50\n",
       "weight          50\n",
       "zoo_location    50\n",
       "dtype: int64"
      ]
     },
     "execution_count": 3,
     "metadata": {},
     "output_type": "execute_result"
    }
   ],
   "source": [
    "df.count()"
   ]
  },
  {
   "cell_type": "markdown",
   "id": "9f79e6f7",
   "metadata": {},
   "source": [
    "## Wat zijn de types van de data?\n",
    "print een overzicht van de types van elke kolom"
   ]
  },
  {
   "cell_type": "code",
   "execution_count": 4,
   "id": "c66615ff",
   "metadata": {},
   "outputs": [
    {
     "data": {
      "text/plain": [
       "animal_name      object\n",
       "age               int64\n",
       "height          float64\n",
       "weight            int64\n",
       "zoo_location     object\n",
       "dtype: object"
      ]
     },
     "execution_count": 4,
     "metadata": {},
     "output_type": "execute_result"
    }
   ],
   "source": [
    "df.dtypes"
   ]
  },
  {
   "cell_type": "markdown",
   "id": "62be571e",
   "metadata": {},
   "source": [
    "### Welke dierentuinen hebben we?\n",
    "print een overzicht van de unieke dierentuinen en hoe vaak ze voorkomen"
   ]
  },
  {
   "cell_type": "code",
   "execution_count": 5,
   "id": "ac961d31",
   "metadata": {},
   "outputs": [
    {
     "data": {
      "text/plain": [
       "zoo_location \n",
       "Melbourne Zoo    9\n",
       "Berlin Zoo       7\n",
       "Toronto Zoo      6\n",
       "Paris Zoo        6\n",
       "Beijing Zoo      5\n",
       "London Zoo       4\n",
       "Tokyo Zoo        4\n",
       "Singapore Zoo    4\n",
       "San Diego Zoo    3\n",
       "Bronx Zoo        2\n",
       "Name: count, dtype: int64"
      ]
     },
     "execution_count": 5,
     "metadata": {},
     "output_type": "execute_result"
    }
   ],
   "source": [
    "df[[\"zoo_location\"]].value_counts()"
   ]
  },
  {
   "cell_type": "markdown",
   "id": "79ca51f2",
   "metadata": {},
   "source": [
    "# Overzicht als diagram\n",
    "Print nu nogmaals de unieke dierentuinen, maar geef ze weer als een diagram. Bedenk zelf welke vorm van visualisatie het meest geschikt is."
   ]
  },
  {
   "cell_type": "code",
   "execution_count": 8,
   "id": "ab091979",
   "metadata": {},
   "outputs": [
    {
     "data": {
      "text/plain": [
       "<Axes: xlabel='zoo_location'>"
      ]
     },
     "execution_count": 8,
     "metadata": {},
     "output_type": "execute_result"
    },
    {
     "data": {
      "image/png": "[encoded data removed]",
      "text/plain": [
       "<Figure size 640x480 with 1 Axes>"
      ]
     },
     "metadata": {},
     "output_type": "display_data"
    }
   ],
   "source": [
    "df.zoo_location.value_counts().plot.bar()"
   ]
  },
  {
   "cell_type": "markdown",
   "id": "7d0f4175",
   "metadata": {},
   "source": [
    "# Hoe zit dat met de andere kolommen?\n",
    "Geef nu voor elke andere kolom een overzicht van de unieke waardes. Bepaal zelf welke vorm van visualisatie hier het meest geschikt voor is. Bij voorkeur als een diagram."
   ]
  },
  {
   "cell_type": "code",
   "execution_count": 20,
   "id": "52f866de",
   "metadata": {},
   "outputs": [
    {
     "data": {
      "text/plain": [
       "<Axes: >"
      ]
     },
     "execution_count": 20,
     "metadata": {},
     "output_type": "execute_result"
    },
    {
     "data": {
      "image/png": "[encoded data removed]",
      "text/plain": [
       "<Figure size 640x480 with 1 Axes>"
      ]
     },
     "metadata": {},
     "output_type": "display_data"
    }
   ],
   "source": [
    "df.age.plot.box()"
   ]
  },
  {
   "cell_type": "markdown",
   "id": "290dfa96",
   "metadata": {},
   "source": [
    "### Rekenen met pandas\n",
    "Bereken nu de gemiddelde leeftijd van alle dieren"
   ]
  },
  {
   "cell_type": "code",
   "execution_count": 18,
   "id": "983daac0",
   "metadata": {},
   "outputs": [
    {
     "data": {
      "text/plain": [
       "np.float64(15.58)"
      ]
     },
     "execution_count": 18,
     "metadata": {},
     "output_type": "execute_result"
    }
   ],
   "source": [
    "df.age.mean()"
   ]
  },
  {
   "cell_type": "markdown",
   "id": "b87d36c4",
   "metadata": {},
   "source": [
    "Oke, nu de minimale en maximale leeftijden."
   ]
  },
  {
   "cell_type": "code",
   "execution_count": 19,
   "id": "3123aa2f",
   "metadata": {},
   "outputs": [
    {
     "data": {
      "text/plain": [
       "(np.int64(1), np.int64(61))"
      ]
     },
     "execution_count": 19,
     "metadata": {},
     "output_type": "execute_result"
    }
   ],
   "source": [
    "df.age.min(), df.age.max()"
   ]
  },
  {
   "cell_type": "markdown",
   "id": "521d1234",
   "metadata": {},
   "source": [
    "Oke, en probeer nu al de bovenstaande in een enkele regel t edoen, als je dit nog niet had gedaan"
   ]
  },
  {
   "cell_type": "code",
   "execution_count": 22,
   "id": "96c6418d",
   "metadata": {},
   "outputs": [
    {
     "data": {
      "text/plain": [
       "count    50.000000\n",
       "mean     15.580000\n",
       "std      11.398335\n",
       "min       1.000000\n",
       "25%       7.250000\n",
       "50%      14.000000\n",
       "75%      20.000000\n",
       "max      61.000000\n",
       "Name: age, dtype: float64"
      ]
     },
     "execution_count": 22,
     "metadata": {},
     "output_type": "execute_result"
    }
   ],
   "source": [
    "df[\"age\"].describe()"
   ]
  },
  {
   "cell_type": "markdown",
   "id": "7b42087b",
   "metadata": {},
   "source": [
    "Als je dit nog niet eerder had gedaan, maak dan een box plot van deze data. Wat zie je hier in?"
   ]
  },
  {
   "cell_type": "code",
   "execution_count": 23,
   "id": "4da90318",
   "metadata": {},
   "outputs": [
    {
     "data": {
      "text/plain": [
       "<Axes: >"
      ]
     },
     "execution_count": 23,
     "metadata": {},
     "output_type": "execute_result"
    },
    {
     "data": {
      "image/png": "[encoded data removed]",
      "text/plain": [
       "<Figure size 640x480 with 1 Axes>"
      ]
     },
     "metadata": {},
     "output_type": "display_data"
    }
   ],
   "source": [
    "df.age.plot.box()"
   ]
  },
  {
   "cell_type": "markdown",
   "id": "6aeadacd",
   "metadata": {},
   "source": [
    "### Alleen voor specifieke dieren\n",
    "Bereken nu dezelfde waardes als voor de age, maar dan voor de gewicht kolom, specifiek alleen voor de dieren uit de Melbourne Zoo"
   ]
  },
  {
   "cell_type": "code",
   "execution_count": 25,
   "id": "e6d0c4e1",
   "metadata": {},
   "outputs": [
    {
     "data": {
      "text/plain": [
       "count       9.000000\n",
       "mean      291.111111\n",
       "std       662.349123\n",
       "min         2.000000\n",
       "25%        19.000000\n",
       "50%        98.000000\n",
       "75%       142.000000\n",
       "max      2051.000000\n",
       "Name: weight, dtype: float64"
      ]
     },
     "execution_count": 25,
     "metadata": {},
     "output_type": "execute_result"
    }
   ],
   "source": [
    "df[df[\"zoo_location\"] == \"Melbourne Zoo\"].weight.describe()"
   ]
  },
  {
   "cell_type": "markdown",
   "id": "4ff180d6",
   "metadata": {},
   "source": [
    "### Nog meer filteren\n",
    "print nu een overzicht van alleen de namen van alle dieren die kleiner dan 1 meter zijn. Let op dat we hier op zoek zijn naar de unieke namen"
   ]
  },
  {
   "cell_type": "code",
   "execution_count": 27,
   "id": "0db60769",
   "metadata": {},
   "outputs": [
    {
     "data": {
      "text/plain": [
       "6          Panda\n",
       "12         Otter\n",
       "16         Sloth\n",
       "17       Meerkat\n",
       "18       Penguin\n",
       "20       Penguin\n",
       "24       Penguin\n",
       "27       Penguin\n",
       "32         Panda\n",
       "35       Meerkat\n",
       "36       Penguin\n",
       "40         Otter\n",
       "41       Leopard\n",
       "44    Chimpanzee\n",
       "45      Flamingo\n",
       "46       Meerkat\n",
       "47         Otter\n",
       "Name: animal_name, dtype: object"
      ]
     },
     "execution_count": 27,
     "metadata": {},
     "output_type": "execute_result"
    }
   ],
   "source": [
    "df[df[\"height\"] < 1].animal_name"
   ]
  },
  {
   "cell_type": "markdown",
   "id": "297691f2",
   "metadata": {},
   "source": [
    "# groeperen\n",
    "Geef nu een overzicht van de maximale leeftijd per dier, gebruik hiervoor de `.group()` methode."
   ]
  },
  {
   "cell_type": "code",
   "execution_count": 30,
   "id": "b4452c32",
   "metadata": {},
   "outputs": [
    {
     "data": {
      "text/plain": [
       "animal_name\n",
       "Bear          22\n",
       "Chimpanzee    20\n",
       "Crocodile     14\n",
       "Elephant      44\n",
       "Flamingo      26\n",
       "Giraffe       35\n",
       "Gorilla       24\n",
       "Kangaroo      25\n",
       "Leopard       25\n",
       "Lion          18\n",
       "Meerkat       14\n",
       "Otter          6\n",
       "Panda         30\n",
       "Penguin       20\n",
       "Rhino         61\n",
       "Sloth          7\n",
       "Tiger         19\n",
       "Wolf          23\n",
       "Name: age, dtype: int64"
      ]
     },
     "execution_count": 30,
     "metadata": {},
     "output_type": "execute_result"
    }
   ],
   "source": [
    "df.groupby(df.animal_name).age.max()"
   ]
  },
  {
   "cell_type": "markdown",
   "id": "96143f55",
   "metadata": {},
   "source": [
    "### Groeperen, vervolg\n",
    "We zijn vaak niet op zoek naar de individuele datapunten, maar we willen vaak iets zetten over bepaalde groepen in de data. Probeer alle data eens te groeperen per dierentuin. Denk zelf goed na over wat een goede manier is om de data te groeperen tot een enkel getal."
   ]
  },
  {
   "cell_type": "code",
   "execution_count": 32,
   "id": "94a01822",
   "metadata": {},
   "outputs": [
    {
     "data": {
      "text/html": [
       "<div>\n",
       "<style scoped>\n",
       "    .dataframe tbody tr th:only-of-type {\n",
       "        vertical-align: middle;\n",
       "    }\n",
       "\n",
       "    .dataframe tbody tr th {\n",
       "        vertical-align: top;\n",
       "    }\n",
       "\n",
       "    .dataframe thead th {\n",
       "        text-align: right;\n",
       "    }\n",
       "</style>\n",
       "<table border=\"1\" class=\"dataframe\">\n",
       "  <thead>\n",
       "    <tr style=\"text-align: right;\">\n",
       "      <th></th>\n",
       "      <th>age</th>\n",
       "      <th>weight</th>\n",
       "      <th>height</th>\n",
       "    </tr>\n",
       "    <tr>\n",
       "      <th>zoo_location</th>\n",
       "      <th></th>\n",
       "      <th></th>\n",
       "      <th></th>\n",
       "    </tr>\n",
       "  </thead>\n",
       "  <tbody>\n",
       "    <tr>\n",
       "      <th>Beijing Zoo</th>\n",
       "      <td>12.800000</td>\n",
       "      <td>79.800000</td>\n",
       "      <td>0.974000</td>\n",
       "    </tr>\n",
       "    <tr>\n",
       "      <th>Berlin Zoo</th>\n",
       "      <td>15.285714</td>\n",
       "      <td>65.000000</td>\n",
       "      <td>1.260000</td>\n",
       "    </tr>\n",
       "    <tr>\n",
       "      <th>Bronx Zoo</th>\n",
       "      <td>4.000000</td>\n",
       "      <td>22.000000</td>\n",
       "      <td>0.905000</td>\n",
       "    </tr>\n",
       "    <tr>\n",
       "      <th>London Zoo</th>\n",
       "      <td>19.250000</td>\n",
       "      <td>102.250000</td>\n",
       "      <td>1.127500</td>\n",
       "    </tr>\n",
       "    <tr>\n",
       "      <th>Melbourne Zoo</th>\n",
       "      <td>15.111111</td>\n",
       "      <td>291.111111</td>\n",
       "      <td>1.202222</td>\n",
       "    </tr>\n",
       "    <tr>\n",
       "      <th>Paris Zoo</th>\n",
       "      <td>11.833333</td>\n",
       "      <td>109.500000</td>\n",
       "      <td>1.125000</td>\n",
       "    </tr>\n",
       "    <tr>\n",
       "      <th>San Diego Zoo</th>\n",
       "      <td>29.666667</td>\n",
       "      <td>545.666667</td>\n",
       "      <td>1.466667</td>\n",
       "    </tr>\n",
       "    <tr>\n",
       "      <th>Singapore Zoo</th>\n",
       "      <td>11.750000</td>\n",
       "      <td>1525.000000</td>\n",
       "      <td>2.327500</td>\n",
       "    </tr>\n",
       "    <tr>\n",
       "      <th>Tokyo Zoo</th>\n",
       "      <td>29.750000</td>\n",
       "      <td>625.000000</td>\n",
       "      <td>1.457500</td>\n",
       "    </tr>\n",
       "    <tr>\n",
       "      <th>Toronto Zoo</th>\n",
       "      <td>10.166667</td>\n",
       "      <td>60.666667</td>\n",
       "      <td>0.788333</td>\n",
       "    </tr>\n",
       "  </tbody>\n",
       "</table>\n",
       "</div>"
      ],
      "text/plain": [
       "                     age       weight    height\n",
       "zoo_location                                   \n",
       "Beijing Zoo    12.800000    79.800000  0.974000\n",
       "Berlin Zoo     15.285714    65.000000  1.260000\n",
       "Bronx Zoo       4.000000    22.000000  0.905000\n",
       "London Zoo     19.250000   102.250000  1.127500\n",
       "Melbourne Zoo  15.111111   291.111111  1.202222\n",
       "Paris Zoo      11.833333   109.500000  1.125000\n",
       "San Diego Zoo  29.666667   545.666667  1.466667\n",
       "Singapore Zoo  11.750000  1525.000000  2.327500\n",
       "Tokyo Zoo      29.750000   625.000000  1.457500\n",
       "Toronto Zoo    10.166667    60.666667  0.788333"
      ]
     },
     "execution_count": 32,
     "metadata": {},
     "output_type": "execute_result"
    }
   ],
   "source": [
    "df.groupby(df[\"zoo_location\"])[[\"age\", \"weight\", \"height\"]].mean()"
   ]
  },
  {
   "cell_type": "markdown",
   "id": "b5372f68",
   "metadata": {},
   "source": [
    "# **Bonus:** Corrupted data\n",
    "Probeer nu alle stappen te herhalen op de corrupted versie van de dataset in `zoo_animals_corrupted.csv`. Probeer dit eerst zonder het bestand te openen. Kijk of je alle problemen op kan lossen en denk na over wat je wil doen met de data die niet klopt. Kan je het oplossen? of moet je de data weggooien."
   ]
  },
  {
   "cell_type": "code",
   "execution_count": null,
   "id": "70f2d671",
   "metadata": {},
   "outputs": [],
   "source": []
  }
 ],
 "metadata": {
  "kernelspec": {
   "display_name": "HCAI_python_TA",
   "language": "python",
   "name": "python3"
  },
  "language_info": {
   "codemirror_mode": {
    "name": "ipython",
    "version": 3
   },
   "file_extension": ".py",
   "mimetype": "text/x-python",
   "name": "python",
   "nbconvert_exporter": "python",
   "pygments_lexer": "ipython3",
   "version": "3.13.5"
  }
 },
 "nbformat": 4,
 "nbformat_minor": 5
}
