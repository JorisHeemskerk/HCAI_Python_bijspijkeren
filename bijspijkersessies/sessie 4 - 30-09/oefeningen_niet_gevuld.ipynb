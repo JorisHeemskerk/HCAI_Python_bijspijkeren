{
 "cells": [
  {
   "cell_type": "markdown",
   "id": "2fb164a3",
   "metadata": {},
   "source": [
    "## Oefeningen\n",
    "Dit notebook bevat een aantal goede oefeningen om je python programmeer skills te testen."
   ]
  },
  {
   "cell_type": "markdown",
   "id": "ac8ca0a6",
   "metadata": {},
   "source": [
    "### L33T 5P34K\n",
    "\n",
    "Schrijf een functie die een user om een input vraagt en geef deze input terug aan de user in l33t 5p34k.\n",
    "\n",
    "l33t 5p34k werkt als volgt:\n",
    "- e -> 3\n",
    "- a -> 4\n",
    "- s -> 5\n",
    "- i -> 1\n",
    "\n",
    "> optioneel: voeg zelf nieuwe regels toe"
   ]
  },
  {
   "cell_type": "code",
   "execution_count": null,
   "id": "c2c58fe0",
   "metadata": {},
   "outputs": [],
   "source": []
  },
  {
   "cell_type": "markdown",
   "id": "5c54c2e4",
   "metadata": {},
   "source": [
    "### Lijstcheck\n",
    "1. Schrijf een functie count() die berekent hoe vaak een geheel getal x in een lijst voorkomt.\n",
    "\n",
    "2. Schrijf een functie die in een gegeven lijst het grootste verschil tussen twee op een volgende getallen bepaalt.\n",
    "\n",
    "3. Schrijf een functie, die bepaalt of een gegeven lijst met alleen 1’en en 0’en aan de volgende eisen voldoet:\n",
    "  - Het aantal enen is groter dan aan het aantal nullen\n",
    "  - Er mogen niet meer dan 12 nullen zijn.\n",
    "\n",
    "Bedenk zelf wat het return type van deze functie moet zijn. Gebruik in je programma de functie count() die je hebt geschreven bij de vorige opgave."
   ]
  },
  {
   "cell_type": "code",
   "execution_count": null,
   "id": "9923211d",
   "metadata": {},
   "outputs": [],
   "source": [
    "def count():\n",
    "    pass"
   ]
  },
  {
   "cell_type": "code",
   "execution_count": null,
   "id": "821c6125",
   "metadata": {},
   "outputs": [],
   "source": []
  },
  {
   "cell_type": "code",
   "execution_count": null,
   "id": "315a1016",
   "metadata": {},
   "outputs": [],
   "source": []
  },
  {
   "cell_type": "markdown",
   "id": "e6e6a455",
   "metadata": {},
   "source": [
    "### Getallen sorteren\n",
    "\n",
    "Bedenk en schrijf zelf een functie die een willekeurige lijst aan gehele getallen sorteert."
   ]
  },
  {
   "cell_type": "code",
   "execution_count": 5,
   "id": "38443b8f",
   "metadata": {},
   "outputs": [
    {
     "name": "stdout",
     "output_type": "stream",
     "text": [
      "Before sorting, the list looks like:  [14, 5, 6, 7, 4, 5, 2, 45, 435, 63, 2, 3535, 6]\n"
     ]
    }
   ],
   "source": [
    "to_be_sorted = [14,5,6,7,4,5,2,45,435,63,2,3535,6]\n",
    "print(\"Before sorting, the list looks like: \", to_be_sorted)"
   ]
  },
  {
   "cell_type": "code",
   "execution_count": null,
   "id": "daedccc2",
   "metadata": {},
   "outputs": [],
   "source": []
  },
  {
   "cell_type": "markdown",
   "id": "52504d5d",
   "metadata": {},
   "source": [
    "### Kijken of iets een telefoonnummer is\n",
    "\n",
    "Schrijf een functie die een user om een input vraagt voor een telefoonnummer, en kijkt of het telefoonnummer geldig is."
   ]
  },
  {
   "cell_type": "code",
   "execution_count": null,
   "id": "ab48659d",
   "metadata": {},
   "outputs": [],
   "source": []
  },
  {
   "cell_type": "markdown",
   "id": "7b1e4c08",
   "metadata": {},
   "source": [
    "### Kijken of iets een email is\n",
    "\n",
    "Schrijf ene functie die een user om een input vraagt voor een email adres en kijkt of het een geldig email adres is."
   ]
  },
  {
   "cell_type": "code",
   "execution_count": null,
   "id": "c88ab880",
   "metadata": {},
   "outputs": [],
   "source": []
  },
  {
   "cell_type": "markdown",
   "id": "162dbb87",
   "metadata": {},
   "source": [
    "### Een dataset opbouwen\n",
    "\n",
    "Schrijf een programma dat net zolang om input vraagt van een user totdat er `\"done\"` wordt getypt.\\\n",
    "Op volgorde wordt de user gevraagd om:\n",
    "- voornaam\n",
    "- achternaam\n",
    "- leeftijd\n",
    "- Alle namen van diens huisdieren (gescheiden door een komma)\n",
    "\n",
    "Sla de input van de user op in een `dictionary`\n",
    "\n",
    "Als de user `\"done\"` heeft getypt, print dan de dictionary en kijk hoe deze de gegevens heeft opgeslagen\n",
    "\n",
    "> optioneel: controleer de validiteit van de user input. Een leeftijd moet een getal zijn bijvoorbeeld."
   ]
  },
  {
   "cell_type": "code",
   "execution_count": null,
   "id": "972d564f",
   "metadata": {},
   "outputs": [],
   "source": []
  },
  {
   "cell_type": "markdown",
   "id": "2aadbce9",
   "metadata": {},
   "source": [
    "### een dataset inlezen met de hand\n",
    "Lees de `zoo_animals.csv` in en sla de waardes op in een `dictionary`. Print daarna de dictionary om te kijken hoe dit er uit ziet.\n",
    "\n",
    "> optioneel: bereken de gemiddelde leeftijd van de dieren, per dierentuin"
   ]
  },
  {
   "cell_type": "code",
   "execution_count": null,
   "id": "5e71fdb2",
   "metadata": {},
   "outputs": [],
   "source": []
  },
  {
   "cell_type": "markdown",
   "id": "60c594f1",
   "metadata": {},
   "source": [
    "### een dataset inlezen met pandas\n",
    "Lees de `zoo_animals.csv` in met pandas en sla de waardes op in een `pandas DataFrame`. Print daarna de dataframe om te kijken hoe dit er uit ziet.\n",
    "\n",
    "> optioneel: bereken de gemiddelde leeftijd van de dieren, per dierentuin"
   ]
  },
  {
   "cell_type": "code",
   "execution_count": null,
   "id": "ac140f77",
   "metadata": {},
   "outputs": [],
   "source": []
  }
 ],
 "metadata": {
  "kernelspec": {
   "display_name": "HCAI_python_TA",
   "language": "python",
   "name": "python3"
  },
  "language_info": {
   "codemirror_mode": {
    "name": "ipython",
    "version": 3
   },
   "file_extension": ".py",
   "mimetype": "text/x-python",
   "name": "python",
   "nbconvert_exporter": "python",
   "pygments_lexer": "ipython3",
   "version": "3.13.5"
  }
 },
 "nbformat": 4,
 "nbformat_minor": 5
}
